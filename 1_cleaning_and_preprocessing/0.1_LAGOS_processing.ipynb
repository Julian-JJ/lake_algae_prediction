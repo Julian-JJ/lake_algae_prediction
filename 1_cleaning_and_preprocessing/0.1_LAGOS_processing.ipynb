{
 "cells": [
  {
   "cell_type": "code",
   "execution_count": 12,
   "id": "85782405-bc9b-483a-a255-30499cb49057",
   "metadata": {},
   "outputs": [],
   "source": [
    "import pandas as pd\n",
    "import geopandas as gpd\n",
    "import csv\n",
    "import os"
   ]
  },
  {
   "cell_type": "code",
   "execution_count": 13,
   "id": "53bb2335-3d1d-4fa8-940a-d785c597ae2d",
   "metadata": {},
   "outputs": [],
   "source": [
    "from pathlib import Path"
   ]
  },
  {
   "cell_type": "code",
   "execution_count": 14,
   "id": "3f3f6323-ee90-4ab9-bfd0-4dedf916b821",
   "metadata": {},
   "outputs": [
    {
     "name": "stdout",
     "output_type": "stream",
     "text": [
      "Raw_dat\n"
     ]
    },
    {
     "name": "stderr",
     "output_type": "stream",
     "text": [
      "C:\\Users\\Saltp\\AppData\\Local\\Temp\\ipykernel_12684\\3633314808.py:7: DtypeWarning: Columns (7,10,12,15,17,18,20,21,22) have mixed types. Specify dtype option on import or set low_memory=False.\n",
      "  raw_dat = pd.read_csv(path_chem_raw)\n"
     ]
    },
    {
     "name": "stdout",
     "output_type": "stream",
     "text": [
      "Chem loaded\n",
      "Geo_inf loaded\n",
      "Geo_char loaded\n"
     ]
    }
   ],
   "source": [
    "\n",
    "root = Path(r'0.1_LAGOS_processing.ipnyb').absolute().parent.parent.parent\n",
    "\n",
    "path_chem = str(root.joinpath(r\"data\\raw_data\\LAGOS_LIMNOS\\chemistry_limno.csv\"))\n",
    "chem_dat = pd.read_csv(path_chem)\n",
    "print(\"Raw_dat\")\n",
    "path_chem_raw = str(root.joinpath(r\"data\\raw_data\\LAGOS_LIMNOS\\sourcedata_limno.csv\"))\n",
    "raw_dat = pd.read_csv(path_chem_raw)\n",
    "print(\"Chem loaded\")\n",
    "path_geo_inf = str(root.joinpath(r\"data\\raw_data\\LAGOS_LOCUS\\lake_information.csv\"))\n",
    "geo_inf_dat = pd.read_csv(path_geo_inf)\n",
    "print(\"Geo_inf loaded\")\n",
    "path_geo_char = str(root.joinpath(r\"data\\raw_data\\LAGOS_LOCUS\\lake_characteristics.csv\"))\n",
    "geo_char_dat = pd.read_csv(path_geo_char)\n",
    "print(\"Geo_char loaded\")"
   ]
  },
  {
   "cell_type": "code",
   "execution_count": 17,
   "id": "583b7d68-0ec3-4bcc-a999-c2f2ee559ef7",
   "metadata": {},
   "outputs": [
    {
     "data": {
      "text/html": [
       "<div>\n",
       "<style scoped>\n",
       "    .dataframe tbody tr th:only-of-type {\n",
       "        vertical-align: middle;\n",
       "    }\n",
       "\n",
       "    .dataframe tbody tr th {\n",
       "        vertical-align: top;\n",
       "    }\n",
       "\n",
       "    .dataframe thead th {\n",
       "        text-align: right;\n",
       "    }\n",
       "</style>\n",
       "<table border=\"1\" class=\"dataframe\">\n",
       "  <thead>\n",
       "    <tr style=\"text-align: right;\">\n",
       "      <th></th>\n",
       "      <th>lagoslakeid</th>\n",
       "      <th>sample_id</th>\n",
       "      <th>parameter_id</th>\n",
       "      <th>source_id</th>\n",
       "      <th>source_name</th>\n",
       "      <th>source_activityorg_name</th>\n",
       "      <th>source_sample_siteid</th>\n",
       "      <th>source_activityid</th>\n",
       "      <th>source_comments</th>\n",
       "      <th>source_parameter_name</th>\n",
       "      <th>...</th>\n",
       "      <th>parameter_detectionlimit_conversionfactor</th>\n",
       "      <th>source_detectionlimit_condition</th>\n",
       "      <th>source_detectionlimit_type</th>\n",
       "      <th>source_labmethod_usgspcode</th>\n",
       "      <th>source_labmethod_description</th>\n",
       "      <th>source_labmethod_id</th>\n",
       "      <th>source_labmethod_name</th>\n",
       "      <th>source_labmethod_qualifier</th>\n",
       "      <th>source_samplesite_lat_dd</th>\n",
       "      <th>source_samplesite_lon_dd</th>\n",
       "    </tr>\n",
       "  </thead>\n",
       "  <tbody>\n",
       "    <tr>\n",
       "      <th>0</th>\n",
       "      <td>2</td>\n",
       "      <td>MA-116552</td>\n",
       "      <td>11</td>\n",
       "      <td>MASSDEP</td>\n",
       "      <td>Massachusetts Department of Environmental Prot...</td>\n",
       "      <td>MassDEP, Watershed Planning Program</td>\n",
       "      <td>MASSDEP-W0347</td>\n",
       "      <td>MASSDEP-LB-3641</td>\n",
       "      <td>NaN</td>\n",
       "      <td>Apparent color</td>\n",
       "      <td>...</td>\n",
       "      <td>1.0</td>\n",
       "      <td>NaN</td>\n",
       "      <td>Reporting limit</td>\n",
       "      <td>NaN</td>\n",
       "      <td>https://www.nemi.gov/methods/method_summary/9730/</td>\n",
       "      <td>APHA 2120-B</td>\n",
       "      <td>2120 B ~ Color in Water by Visual Comparison</td>\n",
       "      <td>NaN</td>\n",
       "      <td>42.183490</td>\n",
       "      <td>-73.043922</td>\n",
       "    </tr>\n",
       "    <tr>\n",
       "      <th>1</th>\n",
       "      <td>2</td>\n",
       "      <td>MA-116016</td>\n",
       "      <td>12</td>\n",
       "      <td>MASSDEP</td>\n",
       "      <td>Massachusetts Department of Environmental Prot...</td>\n",
       "      <td>MassDEP, Watershed Planning Program</td>\n",
       "      <td>MASSDEP-W0347</td>\n",
       "      <td>MASSDEP-LB-3641</td>\n",
       "      <td>NaN</td>\n",
       "      <td>True color</td>\n",
       "      <td>...</td>\n",
       "      <td>1.0</td>\n",
       "      <td>Present Below Quantification Limit</td>\n",
       "      <td>Lower Reporting Limit</td>\n",
       "      <td>NaN</td>\n",
       "      <td>https://www.nemi.gov/methods/method_summary/9730/</td>\n",
       "      <td>APHA 2120-B</td>\n",
       "      <td>2120 B ~ Color in Water by Visual Comparison</td>\n",
       "      <td>NaN</td>\n",
       "      <td>42.183490</td>\n",
       "      <td>-73.043922</td>\n",
       "    </tr>\n",
       "    <tr>\n",
       "      <th>2</th>\n",
       "      <td>2</td>\n",
       "      <td>MA-116209</td>\n",
       "      <td>11</td>\n",
       "      <td>MASSDEP</td>\n",
       "      <td>Massachusetts Department of Environmental Prot...</td>\n",
       "      <td>MassDEP, Watershed Planning Program</td>\n",
       "      <td>MASSDEP-W0347</td>\n",
       "      <td>MASSDEP-LB-3751</td>\n",
       "      <td>NaN</td>\n",
       "      <td>Apparent color</td>\n",
       "      <td>...</td>\n",
       "      <td>1.0</td>\n",
       "      <td>Present Below Quantification Limit</td>\n",
       "      <td>Lower Reporting Limit</td>\n",
       "      <td>NaN</td>\n",
       "      <td>https://www.nemi.gov/methods/method_summary/9730/</td>\n",
       "      <td>APHA 2120-B</td>\n",
       "      <td>2120 B ~ Color in Water by Visual Comparison</td>\n",
       "      <td>NaN</td>\n",
       "      <td>42.183490</td>\n",
       "      <td>-73.043922</td>\n",
       "    </tr>\n",
       "    <tr>\n",
       "      <th>3</th>\n",
       "      <td>2</td>\n",
       "      <td>MA-116478</td>\n",
       "      <td>12</td>\n",
       "      <td>MASSDEP</td>\n",
       "      <td>Massachusetts Department of Environmental Prot...</td>\n",
       "      <td>MassDEP, Watershed Planning Program</td>\n",
       "      <td>MASSDEP-W0347</td>\n",
       "      <td>MASSDEP-LB-3751</td>\n",
       "      <td>NaN</td>\n",
       "      <td>True color</td>\n",
       "      <td>...</td>\n",
       "      <td>1.0</td>\n",
       "      <td>Present Below Quantification Limit</td>\n",
       "      <td>Lower Reporting Limit</td>\n",
       "      <td>NaN</td>\n",
       "      <td>https://www.nemi.gov/methods/method_summary/9730/</td>\n",
       "      <td>APHA 2120-B</td>\n",
       "      <td>2120 B ~ Color in Water by Visual Comparison</td>\n",
       "      <td>NaN</td>\n",
       "      <td>42.183490</td>\n",
       "      <td>-73.043922</td>\n",
       "    </tr>\n",
       "    <tr>\n",
       "      <th>4</th>\n",
       "      <td>6</td>\n",
       "      <td>MA-1061</td>\n",
       "      <td>13</td>\n",
       "      <td>MASSDEP</td>\n",
       "      <td>Massachusetts Department of Environmental Prot...</td>\n",
       "      <td>MassDEP, Watershed Planning Program</td>\n",
       "      <td>MASSDEP-W1221</td>\n",
       "      <td>MASSDEP-LC-0570_00.4</td>\n",
       "      <td>NaN</td>\n",
       "      <td>Specific conductance</td>\n",
       "      <td>...</td>\n",
       "      <td>1.0</td>\n",
       "      <td>NaN</td>\n",
       "      <td>NaN</td>\n",
       "      <td>NaN</td>\n",
       "      <td>NaN</td>\n",
       "      <td>MASSDEP FIELD MEAS-TCOMP</td>\n",
       "      <td>Field measurement of water quality parameters ...</td>\n",
       "      <td>NaN</td>\n",
       "      <td>42.140963</td>\n",
       "      <td>-72.120217</td>\n",
       "    </tr>\n",
       "  </tbody>\n",
       "</table>\n",
       "<p>5 rows × 26 columns</p>\n",
       "</div>"
      ],
      "text/plain": [
       "   lagoslakeid  sample_id  parameter_id source_id  \\\n",
       "0            2  MA-116552            11   MASSDEP   \n",
       "1            2  MA-116016            12   MASSDEP   \n",
       "2            2  MA-116209            11   MASSDEP   \n",
       "3            2  MA-116478            12   MASSDEP   \n",
       "4            6    MA-1061            13   MASSDEP   \n",
       "\n",
       "                                         source_name  \\\n",
       "0  Massachusetts Department of Environmental Prot...   \n",
       "1  Massachusetts Department of Environmental Prot...   \n",
       "2  Massachusetts Department of Environmental Prot...   \n",
       "3  Massachusetts Department of Environmental Prot...   \n",
       "4  Massachusetts Department of Environmental Prot...   \n",
       "\n",
       "               source_activityorg_name source_sample_siteid  \\\n",
       "0  MassDEP, Watershed Planning Program        MASSDEP-W0347   \n",
       "1  MassDEP, Watershed Planning Program        MASSDEP-W0347   \n",
       "2  MassDEP, Watershed Planning Program        MASSDEP-W0347   \n",
       "3  MassDEP, Watershed Planning Program        MASSDEP-W0347   \n",
       "4  MassDEP, Watershed Planning Program        MASSDEP-W1221   \n",
       "\n",
       "      source_activityid source_comments source_parameter_name  ...  \\\n",
       "0       MASSDEP-LB-3641             NaN        Apparent color  ...   \n",
       "1       MASSDEP-LB-3641             NaN            True color  ...   \n",
       "2       MASSDEP-LB-3751             NaN        Apparent color  ...   \n",
       "3       MASSDEP-LB-3751             NaN            True color  ...   \n",
       "4  MASSDEP-LC-0570_00.4             NaN  Specific conductance  ...   \n",
       "\n",
       "  parameter_detectionlimit_conversionfactor  \\\n",
       "0                                       1.0   \n",
       "1                                       1.0   \n",
       "2                                       1.0   \n",
       "3                                       1.0   \n",
       "4                                       1.0   \n",
       "\n",
       "      source_detectionlimit_condition source_detectionlimit_type  \\\n",
       "0                                 NaN            Reporting limit   \n",
       "1  Present Below Quantification Limit      Lower Reporting Limit   \n",
       "2  Present Below Quantification Limit      Lower Reporting Limit   \n",
       "3  Present Below Quantification Limit      Lower Reporting Limit   \n",
       "4                                 NaN                        NaN   \n",
       "\n",
       "   source_labmethod_usgspcode  \\\n",
       "0                         NaN   \n",
       "1                         NaN   \n",
       "2                         NaN   \n",
       "3                         NaN   \n",
       "4                         NaN   \n",
       "\n",
       "                        source_labmethod_description  \\\n",
       "0  https://www.nemi.gov/methods/method_summary/9730/   \n",
       "1  https://www.nemi.gov/methods/method_summary/9730/   \n",
       "2  https://www.nemi.gov/methods/method_summary/9730/   \n",
       "3  https://www.nemi.gov/methods/method_summary/9730/   \n",
       "4                                                NaN   \n",
       "\n",
       "        source_labmethod_id  \\\n",
       "0               APHA 2120-B   \n",
       "1               APHA 2120-B   \n",
       "2               APHA 2120-B   \n",
       "3               APHA 2120-B   \n",
       "4  MASSDEP FIELD MEAS-TCOMP   \n",
       "\n",
       "                               source_labmethod_name  \\\n",
       "0       2120 B ~ Color in Water by Visual Comparison   \n",
       "1       2120 B ~ Color in Water by Visual Comparison   \n",
       "2       2120 B ~ Color in Water by Visual Comparison   \n",
       "3       2120 B ~ Color in Water by Visual Comparison   \n",
       "4  Field measurement of water quality parameters ...   \n",
       "\n",
       "  source_labmethod_qualifier source_samplesite_lat_dd  \\\n",
       "0                        NaN                42.183490   \n",
       "1                        NaN                42.183490   \n",
       "2                        NaN                42.183490   \n",
       "3                        NaN                42.183490   \n",
       "4                        NaN                42.140963   \n",
       "\n",
       "   source_samplesite_lon_dd  \n",
       "0                -73.043922  \n",
       "1                -73.043922  \n",
       "2                -73.043922  \n",
       "3                -73.043922  \n",
       "4                -72.120217  \n",
       "\n",
       "[5 rows x 26 columns]"
      ]
     },
     "execution_count": 17,
     "metadata": {},
     "output_type": "execute_result"
    }
   ],
   "source": [
    "raw_dat.head()"
   ]
  },
  {
   "cell_type": "code",
   "execution_count": 18,
   "id": "56bdb505-fa4c-4dcc-8359-7b026222855e",
   "metadata": {},
   "outputs": [],
   "source": [
    "params = chem_dat[(chem_dat[\"parameter_id\"]==27) | (chem_dat[\"parameter_id\"] == 21) | (chem_dat[\"parameter_id\"] == 31) | (chem_dat[\"parameter_id\"] == 30) | (chem_dat[\"parameter_id\"] == 48) | (chem_dat[\"parameter_id\"] == 25) | (chem_dat[\"parameter_id\"] == 23) | (chem_dat[\"parameter_id\"] == 9)]"
   ]
  },
  {
   "cell_type": "code",
   "execution_count": 19,
   "id": "63ea6fdc-394e-44e2-97d6-90f50b64b618",
   "metadata": {},
   "outputs": [
    {
     "data": {
      "text/plain": [
       "eventid_epi                       False\n",
       "lagoslakeid                       False\n",
       "sample_date                       False\n",
       "sample_id                         False\n",
       "parameter_id                      False\n",
       "parameter_name                    False\n",
       "parameter_value                    True\n",
       "parameter_detectionlimit_value     True\n",
       "censorcode                        False\n",
       "sample_depth_m                    False\n",
       "sample_depth_flag                 False\n",
       "cluster_id                         True\n",
       "cluster_lat_dd                     True\n",
       "cluster_lon_dd                     True\n",
       "source_id                         False\n",
       "source_sample_siteid              False\n",
       "dtype: bool"
      ]
     },
     "execution_count": 19,
     "metadata": {},
     "output_type": "execute_result"
    }
   ],
   "source": [
    "params.isna().any()"
   ]
  },
  {
   "cell_type": "code",
   "execution_count": 20,
   "id": "4bb8a4bd-b5d0-4cc7-b67c-f5c46ce3b188",
   "metadata": {},
   "outputs": [
    {
     "name": "stdout",
     "output_type": "stream",
     "text": [
      "[9, 21, 23, 25, 27, 30, 31, 48]\n"
     ]
    }
   ],
   "source": [
    "print(sorted(params[\"parameter_id\"].unique()))"
   ]
  },
  {
   "cell_type": "code",
   "execution_count": 21,
   "id": "9ce3a6ba-caa7-4556-8fa7-03367f41f0a0",
   "metadata": {},
   "outputs": [],
   "source": [
    "Merged_dat_1 = pd.merge(params, geo_inf_dat, how = 'inner', on = 'lagoslakeid', validate=\"many_to_one\")\n",
    "Merged_dat_2 = pd.merge(Merged_dat_1, geo_char_dat, how = 'inner', on = 'lagoslakeid', validate = \"many_to_one\")\n",
    "Merged_dat = pd.merge(Merged_dat_2, raw_dat, how = 'inner', on = 'sample_id', validate = \"one_to_one\")"
   ]
  },
  {
   "cell_type": "code",
   "execution_count": 22,
   "id": "7ab6c4a8-48b8-42da-982d-2642ba7bb559",
   "metadata": {},
   "outputs": [],
   "source": [
    "#Check if all params matched to geo_inf dat. Make sure params have no null lagoslakeid. Same with geo_char_dat\n",
    "#Check if raw_dat and merged_dat_2 are one to one, make sure no null sample_ids"
   ]
  },
  {
   "cell_type": "code",
   "execution_count": 23,
   "id": "3c4eae89-8ca9-4b7e-a666-03f7bf5cab39",
   "metadata": {},
   "outputs": [
    {
     "data": {
      "text/plain": [
       "(2108503, 16)"
      ]
     },
     "execution_count": 23,
     "metadata": {},
     "output_type": "execute_result"
    }
   ],
   "source": [
    "params.shape"
   ]
  },
  {
   "cell_type": "code",
   "execution_count": 24,
   "id": "5b51e0c2-d220-478f-bf5d-996cee20b7b7",
   "metadata": {},
   "outputs": [],
   "source": [
    "selected_dat = Merged_dat[['eventid_epi','lagoslakeid_x','sample_date','sample_id','parameter_id_x','parameter_value','source_samplesite_lat_dd','source_samplesite_lon_dd','lake_namegnis','lake_namelagos','lake_lat_decdeg','lake_lon_decdeg','lake_elevation_m','lake_totalarea_ha','lake_perimeter_m','lake_shorelinedevfactor']]"
   ]
  },
  {
   "cell_type": "code",
   "execution_count": 25,
   "id": "d9ac8375-d52b-4c5e-865d-fcb840dac84a",
   "metadata": {},
   "outputs": [
    {
     "data": {
      "text/plain": [
       "eventid_epi                 False\n",
       "lagoslakeid_x               False\n",
       "sample_date                 False\n",
       "sample_id                   False\n",
       "parameter_id_x              False\n",
       "parameter_value              True\n",
       "source_samplesite_lat_dd     True\n",
       "source_samplesite_lon_dd     True\n",
       "lake_namegnis                True\n",
       "lake_namelagos               True\n",
       "lake_lat_decdeg             False\n",
       "lake_lon_decdeg             False\n",
       "lake_elevation_m            False\n",
       "lake_totalarea_ha           False\n",
       "lake_perimeter_m            False\n",
       "lake_shorelinedevfactor     False\n",
       "dtype: bool"
      ]
     },
     "execution_count": 25,
     "metadata": {},
     "output_type": "execute_result"
    }
   ],
   "source": [
    "selected_dat.isna().any()"
   ]
  },
  {
   "cell_type": "code",
   "execution_count": 27,
   "id": "6a3301c7-5d6e-49b8-84cb-7eb98ce2f12b",
   "metadata": {},
   "outputs": [],
   "source": [
    "import pickle\n",
    "with open(str(root)+r'\\data\\processed_data\\0.1_LAGOS_processing.pickle', 'wb') as handle:\n",
    "    pickle.dump(selected_dat, handle, protocol=pickle.HIGHEST_PROTOCOL)"
   ]
  },
  {
   "cell_type": "code",
   "execution_count": 20,
   "id": "adc99237-ea90-450e-9383-1a36b31f0433",
   "metadata": {},
   "outputs": [
    {
     "data": {
      "text/plain": [
       "(2108503, 16)"
      ]
     },
     "execution_count": 20,
     "metadata": {},
     "output_type": "execute_result"
    }
   ],
   "source": [
    "selected_dat.shape"
   ]
  },
  {
   "cell_type": "code",
   "execution_count": 46,
   "id": "7486ec3f-afeb-48ce-83c1-7cdb35342760",
   "metadata": {},
   "outputs": [
    {
     "data": {
      "text/plain": [
       "'C:\\\\Users\\\\Saltp\\\\OneDrive\\\\Desktop\\\\Algal Bloom Prediction\\\\Pipeline\\\\data\\\\processed_data\\\\0.1_LAGOS_processing.pickle'"
      ]
     },
     "execution_count": 46,
     "metadata": {},
     "output_type": "execute_result"
    }
   ],
   "source": [
    "str(root)+r'\\data\\processed_data\\0.1_LAGOS_processing.pickle'"
   ]
  },
  {
   "cell_type": "code",
   "execution_count": null,
   "id": "3e1f48f9-d4d1-474e-bcbb-03aae5f36eb5",
   "metadata": {},
   "outputs": [],
   "source": []
  }
 ],
 "metadata": {
  "kernelspec": {
   "display_name": "LakeEnv",
   "language": "python",
   "name": "lakeenv"
  },
  "language_info": {
   "codemirror_mode": {
    "name": "ipython",
    "version": 3
   },
   "file_extension": ".py",
   "mimetype": "text/x-python",
   "name": "python",
   "nbconvert_exporter": "python",
   "pygments_lexer": "ipython3",
   "version": "3.11.6"
  }
 },
 "nbformat": 4,
 "nbformat_minor": 5
}
