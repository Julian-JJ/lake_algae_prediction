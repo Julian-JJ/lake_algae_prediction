{
 "cells": [
  {
   "cell_type": "code",
   "execution_count": null,
   "id": "fefb36bb-4ed9-468b-bf73-f3690a9aedc0",
   "metadata": {},
   "outputs": [],
   "source": [
    "#8/9/2024\n",
    "#Changing order of spatial and temporal set extraction\n",
    "#Shouldn't affect training set, so no need to rerun code"
   ]
  },
  {
   "cell_type": "code",
   "execution_count": 15,
   "id": "9778e869-1a0d-4584-8d16-0214e700d2ca",
   "metadata": {},
   "outputs": [],
   "source": [
    "from pathlib import Path\n",
    "import pickle\n",
    "root = Path(r'Model_Fitting.ipnyb').absolute().parent.parent.parent\n",
    "with open(str(root)+r\"\\data\\processed_data\\0.4_dataset_preprocessing.pickle\",'rb') as handle:\n",
    "    dataset = pickle.load(handle) "
   ]
  },
  {
   "cell_type": "code",
   "execution_count": 16,
   "id": "da279808-d5b4-4668-a717-e94e58f189dd",
   "metadata": {},
   "outputs": [
    {
     "data": {
      "text/plain": [
       "(4889, 33)"
      ]
     },
     "execution_count": 16,
     "metadata": {},
     "output_type": "execute_result"
    }
   ],
   "source": [
    "dataset[' point']['train'][9]['X_train'].shape"
   ]
  },
  {
   "cell_type": "code",
   "execution_count": 7,
   "id": "fafc7870-445d-4d36-8f50-6402c98bc878",
   "metadata": {},
   "outputs": [],
   "source": [
    "#4889 lakes\n",
    "#Determnisitic"
   ]
  },
  {
   "cell_type": "markdown",
   "id": "28e438ba-3f05-47dc-b738-38f935a2c87f",
   "metadata": {},
   "source": [
    "dependent_vars =['source_samplesite_lat_dd','source_samplesite_lon_dd','lake_elevation_m','lake_totalarea_ha','lake_elevation_m','lake_totalarea_ha','lake_perimeter_m','lake_shorelinedevfactor','month','year','lake_mix_layer_temperature','lake_mix_layer_depth','u_component_of_wind_10m','v_component_of_wind_10m','total_precipitation_sum','SR_B1','SR_B2','SR_B3','SR_B4','SR_B5','SR_B6','SR_B7']\n",
    "independent_vars = [parameter_value]"
   ]
  },
  {
   "cell_type": "code",
   "execution_count": 16,
   "id": "47319a49-e160-45f3-942f-4d4d7ed9517e",
   "metadata": {},
   "outputs": [],
   "source": [
    "%run Models.ipynb"
   ]
  },
  {
   "cell_type": "code",
   "execution_count": 17,
   "id": "07bf3ec1-42f2-4e58-955c-d00717fa565e",
   "metadata": {},
   "outputs": [],
   "source": [
    "#Linear\n",
    "for red_method, dataset_block in dataset.items():\n",
    "    train = dataset_block['train']\n",
    "    Linear = train_Linear(train)\n",
    "    for parameter, parameter_block in train.items():\n",
    "        dataset[red_method]['train'][parameter]['Linear_model_block']= test_model(Linear[parameter], dataset_block, parameter)\n",
    "        \n",
    "        "
   ]
  },
  {
   "cell_type": "code",
   "execution_count": null,
   "id": "e20ee264-026a-4cfd-9dbc-ede658788321",
   "metadata": {
    "scrolled": true
   },
   "outputs": [
    {
     "name": "stdout",
     "output_type": "stream",
     "text": [
      "Fitting 5 folds for each of 2560 candidates, totalling 12800 fits\n"
     ]
    },
    {
     "name": "stderr",
     "output_type": "stream",
     "text": [
      "C:\\Users\\Saltp\\anaconda3\\Lib\\site-packages\\xgboost\\core.py:158: UserWarning: [21:53:16] WARNING: D:\\bld\\xgboost-split_1722454234704\\work\\src\\context.cc:196: XGBoost is not compiled with CUDA support.\n",
      "  warnings.warn(smsg, UserWarning)\n"
     ]
    },
    {
     "name": "stdout",
     "output_type": "stream",
     "text": [
      "[CV 1/5] END device=gpu, gamma=0.001, learning_rate=0.15, max_depth=2, min_child_weight=5, reg_alpha=0.001, subsample=0.8;, score=0.635 total time=   0.3s\n"
     ]
    },
    {
     "name": "stderr",
     "output_type": "stream",
     "text": [
      "C:\\Users\\Saltp\\anaconda3\\Lib\\site-packages\\xgboost\\core.py:158: UserWarning: [21:53:17] WARNING: D:\\bld\\xgboost-split_1722454234704\\work\\src\\context.cc:196: XGBoost is not compiled with CUDA support.\n",
      "  warnings.warn(smsg, UserWarning)\n"
     ]
    },
    {
     "name": "stdout",
     "output_type": "stream",
     "text": [
      "[CV 2/5] END device=gpu, gamma=0.001, learning_rate=0.15, max_depth=2, min_child_weight=5, reg_alpha=0.001, subsample=0.8;, score=0.634 total time=   0.3s\n"
     ]
    },
    {
     "name": "stderr",
     "output_type": "stream",
     "text": [
      "C:\\Users\\Saltp\\anaconda3\\Lib\\site-packages\\xgboost\\core.py:158: UserWarning: [21:53:17] WARNING: D:\\bld\\xgboost-split_1722454234704\\work\\src\\context.cc:196: XGBoost is not compiled with CUDA support.\n",
      "  warnings.warn(smsg, UserWarning)\n"
     ]
    },
    {
     "name": "stdout",
     "output_type": "stream",
     "text": [
      "[CV 3/5] END device=gpu, gamma=0.001, learning_rate=0.15, max_depth=2, min_child_weight=5, reg_alpha=0.001, subsample=0.8;, score=0.655 total time=   0.3s\n"
     ]
    },
    {
     "name": "stderr",
     "output_type": "stream",
     "text": [
      "C:\\Users\\Saltp\\anaconda3\\Lib\\site-packages\\xgboost\\core.py:158: UserWarning: [21:53:18] WARNING: D:\\bld\\xgboost-split_1722454234704\\work\\src\\context.cc:196: XGBoost is not compiled with CUDA support.\n",
      "  warnings.warn(smsg, UserWarning)\n"
     ]
    },
    {
     "name": "stdout",
     "output_type": "stream",
     "text": [
      "[CV 4/5] END device=gpu, gamma=0.001, learning_rate=0.15, max_depth=2, min_child_weight=5, reg_alpha=0.001, subsample=0.8;, score=0.633 total time=   0.3s\n"
     ]
    },
    {
     "name": "stderr",
     "output_type": "stream",
     "text": [
      "C:\\Users\\Saltp\\anaconda3\\Lib\\site-packages\\xgboost\\core.py:158: UserWarning: [21:53:18] WARNING: D:\\bld\\xgboost-split_1722454234704\\work\\src\\context.cc:196: XGBoost is not compiled with CUDA support.\n",
      "  warnings.warn(smsg, UserWarning)\n"
     ]
    },
    {
     "name": "stdout",
     "output_type": "stream",
     "text": [
      "[CV 5/5] END device=gpu, gamma=0.001, learning_rate=0.15, max_depth=2, min_child_weight=5, reg_alpha=0.001, subsample=0.8;, score=0.650 total time=   0.3s\n"
     ]
    },
    {
     "name": "stderr",
     "output_type": "stream",
     "text": [
      "C:\\Users\\Saltp\\anaconda3\\Lib\\site-packages\\xgboost\\core.py:158: UserWarning: [21:53:18] WARNING: D:\\bld\\xgboost-split_1722454234704\\work\\src\\context.cc:196: XGBoost is not compiled with CUDA support.\n",
      "  warnings.warn(smsg, UserWarning)\n"
     ]
    },
    {
     "name": "stdout",
     "output_type": "stream",
     "text": [
      "[CV 1/5] END device=gpu, gamma=0.001, learning_rate=0.15, max_depth=2, min_child_weight=5, reg_alpha=0.001, subsample=1;, score=0.635 total time=   0.3s\n"
     ]
    },
    {
     "name": "stderr",
     "output_type": "stream",
     "text": [
      "C:\\Users\\Saltp\\anaconda3\\Lib\\site-packages\\xgboost\\core.py:158: UserWarning: [21:53:19] WARNING: D:\\bld\\xgboost-split_1722454234704\\work\\src\\context.cc:196: XGBoost is not compiled with CUDA support.\n",
      "  warnings.warn(smsg, UserWarning)\n"
     ]
    },
    {
     "name": "stdout",
     "output_type": "stream",
     "text": [
      "[CV 2/5] END device=gpu, gamma=0.001, learning_rate=0.15, max_depth=2, min_child_weight=5, reg_alpha=0.001, subsample=1;, score=0.633 total time=   0.3s\n"
     ]
    },
    {
     "name": "stderr",
     "output_type": "stream",
     "text": [
      "C:\\Users\\Saltp\\anaconda3\\Lib\\site-packages\\xgboost\\core.py:158: UserWarning: [21:53:19] WARNING: D:\\bld\\xgboost-split_1722454234704\\work\\src\\context.cc:196: XGBoost is not compiled with CUDA support.\n",
      "  warnings.warn(smsg, UserWarning)\n"
     ]
    },
    {
     "name": "stdout",
     "output_type": "stream",
     "text": [
      "[CV 3/5] END device=gpu, gamma=0.001, learning_rate=0.15, max_depth=2, min_child_weight=5, reg_alpha=0.001, subsample=1;, score=0.652 total time=   0.3s\n"
     ]
    },
    {
     "name": "stderr",
     "output_type": "stream",
     "text": [
      "C:\\Users\\Saltp\\anaconda3\\Lib\\site-packages\\xgboost\\core.py:158: UserWarning: [21:53:20] WARNING: D:\\bld\\xgboost-split_1722454234704\\work\\src\\context.cc:196: XGBoost is not compiled with CUDA support.\n",
      "  warnings.warn(smsg, UserWarning)\n"
     ]
    },
    {
     "name": "stdout",
     "output_type": "stream",
     "text": [
      "[CV 4/5] END device=gpu, gamma=0.001, learning_rate=0.15, max_depth=2, min_child_weight=5, reg_alpha=0.001, subsample=1;, score=0.626 total time=   0.3s\n"
     ]
    },
    {
     "name": "stderr",
     "output_type": "stream",
     "text": [
      "C:\\Users\\Saltp\\anaconda3\\Lib\\site-packages\\xgboost\\core.py:158: UserWarning: [21:53:20] WARNING: D:\\bld\\xgboost-split_1722454234704\\work\\src\\context.cc:196: XGBoost is not compiled with CUDA support.\n",
      "  warnings.warn(smsg, UserWarning)\n"
     ]
    },
    {
     "name": "stdout",
     "output_type": "stream",
     "text": [
      "[CV 5/5] END device=gpu, gamma=0.001, learning_rate=0.15, max_depth=2, min_child_weight=5, reg_alpha=0.001, subsample=1;, score=0.651 total time=   0.2s\n"
     ]
    },
    {
     "name": "stderr",
     "output_type": "stream",
     "text": [
      "C:\\Users\\Saltp\\anaconda3\\Lib\\site-packages\\xgboost\\core.py:158: UserWarning: [21:53:20] WARNING: D:\\bld\\xgboost-split_1722454234704\\work\\src\\context.cc:196: XGBoost is not compiled with CUDA support.\n",
      "  warnings.warn(smsg, UserWarning)\n"
     ]
    },
    {
     "name": "stdout",
     "output_type": "stream",
     "text": [
      "[CV 1/5] END device=gpu, gamma=0.001, learning_rate=0.15, max_depth=2, min_child_weight=5, reg_alpha=0.01, subsample=0.8;, score=0.635 total time=   0.3s\n"
     ]
    },
    {
     "name": "stderr",
     "output_type": "stream",
     "text": [
      "C:\\Users\\Saltp\\anaconda3\\Lib\\site-packages\\xgboost\\core.py:158: UserWarning: [21:53:21] WARNING: D:\\bld\\xgboost-split_1722454234704\\work\\src\\context.cc:196: XGBoost is not compiled with CUDA support.\n",
      "  warnings.warn(smsg, UserWarning)\n"
     ]
    },
    {
     "name": "stdout",
     "output_type": "stream",
     "text": [
      "[CV 2/5] END device=gpu, gamma=0.001, learning_rate=0.15, max_depth=2, min_child_weight=5, reg_alpha=0.01, subsample=0.8;, score=0.634 total time=   0.4s\n"
     ]
    },
    {
     "name": "stderr",
     "output_type": "stream",
     "text": [
      "C:\\Users\\Saltp\\anaconda3\\Lib\\site-packages\\xgboost\\core.py:158: UserWarning: [21:53:21] WARNING: D:\\bld\\xgboost-split_1722454234704\\work\\src\\context.cc:196: XGBoost is not compiled with CUDA support.\n",
      "  warnings.warn(smsg, UserWarning)\n"
     ]
    },
    {
     "name": "stdout",
     "output_type": "stream",
     "text": [
      "[CV 3/5] END device=gpu, gamma=0.001, learning_rate=0.15, max_depth=2, min_child_weight=5, reg_alpha=0.01, subsample=0.8;, score=0.655 total time=   0.4s\n"
     ]
    },
    {
     "name": "stderr",
     "output_type": "stream",
     "text": [
      "C:\\Users\\Saltp\\anaconda3\\Lib\\site-packages\\xgboost\\core.py:158: UserWarning: [21:53:22] WARNING: D:\\bld\\xgboost-split_1722454234704\\work\\src\\context.cc:196: XGBoost is not compiled with CUDA support.\n",
      "  warnings.warn(smsg, UserWarning)\n"
     ]
    },
    {
     "name": "stdout",
     "output_type": "stream",
     "text": [
      "[CV 4/5] END device=gpu, gamma=0.001, learning_rate=0.15, max_depth=2, min_child_weight=5, reg_alpha=0.01, subsample=0.8;, score=0.633 total time=   0.4s\n"
     ]
    },
    {
     "name": "stderr",
     "output_type": "stream",
     "text": [
      "C:\\Users\\Saltp\\anaconda3\\Lib\\site-packages\\xgboost\\core.py:158: UserWarning: [21:53:22] WARNING: D:\\bld\\xgboost-split_1722454234704\\work\\src\\context.cc:196: XGBoost is not compiled with CUDA support.\n",
      "  warnings.warn(smsg, UserWarning)\n"
     ]
    },
    {
     "name": "stdout",
     "output_type": "stream",
     "text": [
      "[CV 5/5] END device=gpu, gamma=0.001, learning_rate=0.15, max_depth=2, min_child_weight=5, reg_alpha=0.01, subsample=0.8;, score=0.650 total time=   0.3s\n"
     ]
    },
    {
     "name": "stderr",
     "output_type": "stream",
     "text": [
      "C:\\Users\\Saltp\\anaconda3\\Lib\\site-packages\\xgboost\\core.py:158: UserWarning: [21:53:23] WARNING: D:\\bld\\xgboost-split_1722454234704\\work\\src\\context.cc:196: XGBoost is not compiled with CUDA support.\n",
      "  warnings.warn(smsg, UserWarning)\n"
     ]
    },
    {
     "name": "stdout",
     "output_type": "stream",
     "text": [
      "[CV 1/5] END device=gpu, gamma=0.001, learning_rate=0.15, max_depth=2, min_child_weight=5, reg_alpha=0.01, subsample=1;, score=0.633 total time=   0.3s\n"
     ]
    },
    {
     "name": "stderr",
     "output_type": "stream",
     "text": [
      "C:\\Users\\Saltp\\anaconda3\\Lib\\site-packages\\xgboost\\core.py:158: UserWarning: [21:53:23] WARNING: D:\\bld\\xgboost-split_1722454234704\\work\\src\\context.cc:196: XGBoost is not compiled with CUDA support.\n",
      "  warnings.warn(smsg, UserWarning)\n"
     ]
    },
    {
     "name": "stdout",
     "output_type": "stream",
     "text": [
      "[CV 2/5] END device=gpu, gamma=0.001, learning_rate=0.15, max_depth=2, min_child_weight=5, reg_alpha=0.01, subsample=1;, score=0.633 total time=   0.2s\n"
     ]
    },
    {
     "name": "stderr",
     "output_type": "stream",
     "text": [
      "C:\\Users\\Saltp\\anaconda3\\Lib\\site-packages\\xgboost\\core.py:158: UserWarning: [21:53:23] WARNING: D:\\bld\\xgboost-split_1722454234704\\work\\src\\context.cc:196: XGBoost is not compiled with CUDA support.\n",
      "  warnings.warn(smsg, UserWarning)\n"
     ]
    },
    {
     "name": "stdout",
     "output_type": "stream",
     "text": [
      "[CV 3/5] END device=gpu, gamma=0.001, learning_rate=0.15, max_depth=2, min_child_weight=5, reg_alpha=0.01, subsample=1;, score=0.652 total time=   0.3s\n"
     ]
    },
    {
     "name": "stderr",
     "output_type": "stream",
     "text": [
      "C:\\Users\\Saltp\\anaconda3\\Lib\\site-packages\\xgboost\\core.py:158: UserWarning: [21:53:24] WARNING: D:\\bld\\xgboost-split_1722454234704\\work\\src\\context.cc:196: XGBoost is not compiled with CUDA support.\n",
      "  warnings.warn(smsg, UserWarning)\n"
     ]
    },
    {
     "name": "stdout",
     "output_type": "stream",
     "text": [
      "[CV 4/5] END device=gpu, gamma=0.001, learning_rate=0.15, max_depth=2, min_child_weight=5, reg_alpha=0.01, subsample=1;, score=0.626 total time=   0.2s\n"
     ]
    },
    {
     "name": "stderr",
     "output_type": "stream",
     "text": [
      "C:\\Users\\Saltp\\anaconda3\\Lib\\site-packages\\xgboost\\core.py:158: UserWarning: [21:53:24] WARNING: D:\\bld\\xgboost-split_1722454234704\\work\\src\\context.cc:196: XGBoost is not compiled with CUDA support.\n",
      "  warnings.warn(smsg, UserWarning)\n"
     ]
    },
    {
     "name": "stdout",
     "output_type": "stream",
     "text": [
      "[CV 5/5] END device=gpu, gamma=0.001, learning_rate=0.15, max_depth=2, min_child_weight=5, reg_alpha=0.01, subsample=1;, score=0.650 total time=   0.3s\n"
     ]
    },
    {
     "name": "stderr",
     "output_type": "stream",
     "text": [
      "C:\\Users\\Saltp\\anaconda3\\Lib\\site-packages\\xgboost\\core.py:158: UserWarning: [21:53:24] WARNING: D:\\bld\\xgboost-split_1722454234704\\work\\src\\context.cc:196: XGBoost is not compiled with CUDA support.\n",
      "  warnings.warn(smsg, UserWarning)\n"
     ]
    },
    {
     "name": "stdout",
     "output_type": "stream",
     "text": [
      "[CV 1/5] END device=gpu, gamma=0.001, learning_rate=0.15, max_depth=2, min_child_weight=5, reg_alpha=0.1, subsample=0.8;, score=0.634 total time=   0.3s\n"
     ]
    },
    {
     "name": "stderr",
     "output_type": "stream",
     "text": [
      "C:\\Users\\Saltp\\anaconda3\\Lib\\site-packages\\xgboost\\core.py:158: UserWarning: [21:53:25] WARNING: D:\\bld\\xgboost-split_1722454234704\\work\\src\\context.cc:196: XGBoost is not compiled with CUDA support.\n",
      "  warnings.warn(smsg, UserWarning)\n"
     ]
    },
    {
     "name": "stdout",
     "output_type": "stream",
     "text": [
      "[CV 2/5] END device=gpu, gamma=0.001, learning_rate=0.15, max_depth=2, min_child_weight=5, reg_alpha=0.1, subsample=0.8;, score=0.635 total time=   0.3s\n"
     ]
    },
    {
     "name": "stderr",
     "output_type": "stream",
     "text": [
      "C:\\Users\\Saltp\\anaconda3\\Lib\\site-packages\\xgboost\\core.py:158: UserWarning: [21:53:25] WARNING: D:\\bld\\xgboost-split_1722454234704\\work\\src\\context.cc:196: XGBoost is not compiled with CUDA support.\n",
      "  warnings.warn(smsg, UserWarning)\n"
     ]
    },
    {
     "name": "stdout",
     "output_type": "stream",
     "text": [
      "[CV 3/5] END device=gpu, gamma=0.001, learning_rate=0.15, max_depth=2, min_child_weight=5, reg_alpha=0.1, subsample=0.8;, score=0.654 total time=   0.3s\n"
     ]
    },
    {
     "name": "stderr",
     "output_type": "stream",
     "text": [
      "C:\\Users\\Saltp\\anaconda3\\Lib\\site-packages\\xgboost\\core.py:158: UserWarning: [21:53:25] WARNING: D:\\bld\\xgboost-split_1722454234704\\work\\src\\context.cc:196: XGBoost is not compiled with CUDA support.\n",
      "  warnings.warn(smsg, UserWarning)\n"
     ]
    },
    {
     "name": "stdout",
     "output_type": "stream",
     "text": [
      "[CV 4/5] END device=gpu, gamma=0.001, learning_rate=0.15, max_depth=2, min_child_weight=5, reg_alpha=0.1, subsample=0.8;, score=0.632 total time=   0.3s\n"
     ]
    },
    {
     "name": "stderr",
     "output_type": "stream",
     "text": [
      "C:\\Users\\Saltp\\anaconda3\\Lib\\site-packages\\xgboost\\core.py:158: UserWarning: [21:53:26] WARNING: D:\\bld\\xgboost-split_1722454234704\\work\\src\\context.cc:196: XGBoost is not compiled with CUDA support.\n",
      "  warnings.warn(smsg, UserWarning)\n"
     ]
    },
    {
     "name": "stdout",
     "output_type": "stream",
     "text": [
      "[CV 5/5] END device=gpu, gamma=0.001, learning_rate=0.15, max_depth=2, min_child_weight=5, reg_alpha=0.1, subsample=0.8;, score=0.648 total time=   0.3s\n"
     ]
    },
    {
     "name": "stderr",
     "output_type": "stream",
     "text": [
      "C:\\Users\\Saltp\\anaconda3\\Lib\\site-packages\\xgboost\\core.py:158: UserWarning: [21:53:26] WARNING: D:\\bld\\xgboost-split_1722454234704\\work\\src\\context.cc:196: XGBoost is not compiled with CUDA support.\n",
      "  warnings.warn(smsg, UserWarning)\n"
     ]
    },
    {
     "name": "stdout",
     "output_type": "stream",
     "text": [
      "[CV 1/5] END device=gpu, gamma=0.001, learning_rate=0.15, max_depth=2, min_child_weight=5, reg_alpha=0.1, subsample=1;, score=0.634 total time=   0.3s\n"
     ]
    },
    {
     "name": "stderr",
     "output_type": "stream",
     "text": [
      "C:\\Users\\Saltp\\anaconda3\\Lib\\site-packages\\xgboost\\core.py:158: UserWarning: [21:53:27] WARNING: D:\\bld\\xgboost-split_1722454234704\\work\\src\\context.cc:196: XGBoost is not compiled with CUDA support.\n",
      "  warnings.warn(smsg, UserWarning)\n"
     ]
    },
    {
     "name": "stdout",
     "output_type": "stream",
     "text": [
      "[CV 2/5] END device=gpu, gamma=0.001, learning_rate=0.15, max_depth=2, min_child_weight=5, reg_alpha=0.1, subsample=1;, score=0.631 total time=   0.3s\n"
     ]
    },
    {
     "name": "stderr",
     "output_type": "stream",
     "text": [
      "C:\\Users\\Saltp\\anaconda3\\Lib\\site-packages\\xgboost\\core.py:158: UserWarning: [21:53:27] WARNING: D:\\bld\\xgboost-split_1722454234704\\work\\src\\context.cc:196: XGBoost is not compiled with CUDA support.\n",
      "  warnings.warn(smsg, UserWarning)\n"
     ]
    },
    {
     "name": "stdout",
     "output_type": "stream",
     "text": [
      "[CV 3/5] END device=gpu, gamma=0.001, learning_rate=0.15, max_depth=2, min_child_weight=5, reg_alpha=0.1, subsample=1;, score=0.652 total time=   0.2s\n"
     ]
    },
    {
     "name": "stderr",
     "output_type": "stream",
     "text": [
      "C:\\Users\\Saltp\\anaconda3\\Lib\\site-packages\\xgboost\\core.py:158: UserWarning: [21:53:27] WARNING: D:\\bld\\xgboost-split_1722454234704\\work\\src\\context.cc:196: XGBoost is not compiled with CUDA support.\n",
      "  warnings.warn(smsg, UserWarning)\n"
     ]
    },
    {
     "name": "stdout",
     "output_type": "stream",
     "text": [
      "[CV 4/5] END device=gpu, gamma=0.001, learning_rate=0.15, max_depth=2, min_child_weight=5, reg_alpha=0.1, subsample=1;, score=0.630 total time=   0.3s\n"
     ]
    },
    {
     "name": "stderr",
     "output_type": "stream",
     "text": [
      "C:\\Users\\Saltp\\anaconda3\\Lib\\site-packages\\xgboost\\core.py:158: UserWarning: [21:53:28] WARNING: D:\\bld\\xgboost-split_1722454234704\\work\\src\\context.cc:196: XGBoost is not compiled with CUDA support.\n",
      "  warnings.warn(smsg, UserWarning)\n"
     ]
    },
    {
     "name": "stdout",
     "output_type": "stream",
     "text": [
      "[CV 5/5] END device=gpu, gamma=0.001, learning_rate=0.15, max_depth=2, min_child_weight=5, reg_alpha=0.1, subsample=1;, score=0.651 total time=   0.3s\n"
     ]
    },
    {
     "name": "stderr",
     "output_type": "stream",
     "text": [
      "C:\\Users\\Saltp\\anaconda3\\Lib\\site-packages\\xgboost\\core.py:158: UserWarning: [21:53:28] WARNING: D:\\bld\\xgboost-split_1722454234704\\work\\src\\context.cc:196: XGBoost is not compiled with CUDA support.\n",
      "  warnings.warn(smsg, UserWarning)\n"
     ]
    },
    {
     "name": "stdout",
     "output_type": "stream",
     "text": [
      "[CV 1/5] END device=gpu, gamma=0.001, learning_rate=0.15, max_depth=2, min_child_weight=5, reg_alpha=1, subsample=0.8;, score=0.639 total time=   0.3s\n"
     ]
    },
    {
     "name": "stderr",
     "output_type": "stream",
     "text": [
      "C:\\Users\\Saltp\\anaconda3\\Lib\\site-packages\\xgboost\\core.py:158: UserWarning: [21:53:29] WARNING: D:\\bld\\xgboost-split_1722454234704\\work\\src\\context.cc:196: XGBoost is not compiled with CUDA support.\n",
      "  warnings.warn(smsg, UserWarning)\n"
     ]
    },
    {
     "name": "stdout",
     "output_type": "stream",
     "text": [
      "[CV 2/5] END device=gpu, gamma=0.001, learning_rate=0.15, max_depth=2, min_child_weight=5, reg_alpha=1, subsample=0.8;, score=0.632 total time=   0.3s\n"
     ]
    },
    {
     "name": "stderr",
     "output_type": "stream",
     "text": [
      "C:\\Users\\Saltp\\anaconda3\\Lib\\site-packages\\xgboost\\core.py:158: UserWarning: [21:53:29] WARNING: D:\\bld\\xgboost-split_1722454234704\\work\\src\\context.cc:196: XGBoost is not compiled with CUDA support.\n",
      "  warnings.warn(smsg, UserWarning)\n"
     ]
    },
    {
     "name": "stdout",
     "output_type": "stream",
     "text": [
      "[CV 3/5] END device=gpu, gamma=0.001, learning_rate=0.15, max_depth=2, min_child_weight=5, reg_alpha=1, subsample=0.8;, score=0.653 total time=   0.3s\n"
     ]
    },
    {
     "name": "stderr",
     "output_type": "stream",
     "text": [
      "C:\\Users\\Saltp\\anaconda3\\Lib\\site-packages\\xgboost\\core.py:158: UserWarning: [21:53:29] WARNING: D:\\bld\\xgboost-split_1722454234704\\work\\src\\context.cc:196: XGBoost is not compiled with CUDA support.\n",
      "  warnings.warn(smsg, UserWarning)\n"
     ]
    },
    {
     "name": "stdout",
     "output_type": "stream",
     "text": [
      "[CV 4/5] END device=gpu, gamma=0.001, learning_rate=0.15, max_depth=2, min_child_weight=5, reg_alpha=1, subsample=0.8;, score=0.632 total time=   0.3s\n"
     ]
    },
    {
     "name": "stderr",
     "output_type": "stream",
     "text": [
      "C:\\Users\\Saltp\\anaconda3\\Lib\\site-packages\\xgboost\\core.py:158: UserWarning: [21:53:30] WARNING: D:\\bld\\xgboost-split_1722454234704\\work\\src\\context.cc:196: XGBoost is not compiled with CUDA support.\n",
      "  warnings.warn(smsg, UserWarning)\n"
     ]
    },
    {
     "name": "stdout",
     "output_type": "stream",
     "text": [
      "[CV 5/5] END device=gpu, gamma=0.001, learning_rate=0.15, max_depth=2, min_child_weight=5, reg_alpha=1, subsample=0.8;, score=0.648 total time=   0.3s\n"
     ]
    },
    {
     "name": "stderr",
     "output_type": "stream",
     "text": [
      "C:\\Users\\Saltp\\anaconda3\\Lib\\site-packages\\xgboost\\core.py:158: UserWarning: [21:53:30] WARNING: D:\\bld\\xgboost-split_1722454234704\\work\\src\\context.cc:196: XGBoost is not compiled with CUDA support.\n",
      "  warnings.warn(smsg, UserWarning)\n"
     ]
    },
    {
     "name": "stdout",
     "output_type": "stream",
     "text": [
      "[CV 1/5] END device=gpu, gamma=0.001, learning_rate=0.15, max_depth=2, min_child_weight=5, reg_alpha=1, subsample=1;, score=0.634 total time=   0.2s\n"
     ]
    },
    {
     "name": "stderr",
     "output_type": "stream",
     "text": [
      "C:\\Users\\Saltp\\anaconda3\\Lib\\site-packages\\xgboost\\core.py:158: UserWarning: [21:53:30] WARNING: D:\\bld\\xgboost-split_1722454234704\\work\\src\\context.cc:196: XGBoost is not compiled with CUDA support.\n",
      "  warnings.warn(smsg, UserWarning)\n"
     ]
    },
    {
     "name": "stdout",
     "output_type": "stream",
     "text": [
      "[CV 2/5] END device=gpu, gamma=0.001, learning_rate=0.15, max_depth=2, min_child_weight=5, reg_alpha=1, subsample=1;, score=0.630 total time=   0.2s\n"
     ]
    },
    {
     "name": "stderr",
     "output_type": "stream",
     "text": [
      "C:\\Users\\Saltp\\anaconda3\\Lib\\site-packages\\xgboost\\core.py:158: UserWarning: [21:53:31] WARNING: D:\\bld\\xgboost-split_1722454234704\\work\\src\\context.cc:196: XGBoost is not compiled with CUDA support.\n",
      "  warnings.warn(smsg, UserWarning)\n"
     ]
    },
    {
     "name": "stdout",
     "output_type": "stream",
     "text": [
      "[CV 3/5] END device=gpu, gamma=0.001, learning_rate=0.15, max_depth=2, min_child_weight=5, reg_alpha=1, subsample=1;, score=0.652 total time=   0.3s\n"
     ]
    },
    {
     "name": "stderr",
     "output_type": "stream",
     "text": [
      "C:\\Users\\Saltp\\anaconda3\\Lib\\site-packages\\xgboost\\core.py:158: UserWarning: [21:53:31] WARNING: D:\\bld\\xgboost-split_1722454234704\\work\\src\\context.cc:196: XGBoost is not compiled with CUDA support.\n",
      "  warnings.warn(smsg, UserWarning)\n"
     ]
    },
    {
     "name": "stdout",
     "output_type": "stream",
     "text": [
      "[CV 4/5] END device=gpu, gamma=0.001, learning_rate=0.15, max_depth=2, min_child_weight=5, reg_alpha=1, subsample=1;, score=0.629 total time=   0.2s\n"
     ]
    },
    {
     "name": "stderr",
     "output_type": "stream",
     "text": [
      "C:\\Users\\Saltp\\anaconda3\\Lib\\site-packages\\xgboost\\core.py:158: UserWarning: [21:53:31] WARNING: D:\\bld\\xgboost-split_1722454234704\\work\\src\\context.cc:196: XGBoost is not compiled with CUDA support.\n",
      "  warnings.warn(smsg, UserWarning)\n"
     ]
    },
    {
     "name": "stdout",
     "output_type": "stream",
     "text": [
      "[CV 5/5] END device=gpu, gamma=0.001, learning_rate=0.15, max_depth=2, min_child_weight=5, reg_alpha=1, subsample=1;, score=0.647 total time=   0.2s\n"
     ]
    },
    {
     "name": "stderr",
     "output_type": "stream",
     "text": [
      "C:\\Users\\Saltp\\anaconda3\\Lib\\site-packages\\xgboost\\core.py:158: UserWarning: [21:53:32] WARNING: D:\\bld\\xgboost-split_1722454234704\\work\\src\\context.cc:196: XGBoost is not compiled with CUDA support.\n",
      "  warnings.warn(smsg, UserWarning)\n"
     ]
    },
    {
     "name": "stdout",
     "output_type": "stream",
     "text": [
      "[CV 1/5] END device=gpu, gamma=0.001, learning_rate=0.15, max_depth=2, min_child_weight=6, reg_alpha=0.001, subsample=0.8;, score=0.635 total time=   0.3s\n"
     ]
    },
    {
     "name": "stderr",
     "output_type": "stream",
     "text": [
      "C:\\Users\\Saltp\\anaconda3\\Lib\\site-packages\\xgboost\\core.py:158: UserWarning: [21:53:32] WARNING: D:\\bld\\xgboost-split_1722454234704\\work\\src\\context.cc:196: XGBoost is not compiled with CUDA support.\n",
      "  warnings.warn(smsg, UserWarning)\n"
     ]
    },
    {
     "name": "stdout",
     "output_type": "stream",
     "text": [
      "[CV 2/5] END device=gpu, gamma=0.001, learning_rate=0.15, max_depth=2, min_child_weight=6, reg_alpha=0.001, subsample=0.8;, score=0.634 total time=   0.3s\n"
     ]
    },
    {
     "name": "stderr",
     "output_type": "stream",
     "text": [
      "C:\\Users\\Saltp\\anaconda3\\Lib\\site-packages\\xgboost\\core.py:158: UserWarning: [21:53:33] WARNING: D:\\bld\\xgboost-split_1722454234704\\work\\src\\context.cc:196: XGBoost is not compiled with CUDA support.\n",
      "  warnings.warn(smsg, UserWarning)\n"
     ]
    },
    {
     "name": "stdout",
     "output_type": "stream",
     "text": [
      "[CV 3/5] END device=gpu, gamma=0.001, learning_rate=0.15, max_depth=2, min_child_weight=6, reg_alpha=0.001, subsample=0.8;, score=0.655 total time=   0.3s\n"
     ]
    },
    {
     "name": "stderr",
     "output_type": "stream",
     "text": [
      "C:\\Users\\Saltp\\anaconda3\\Lib\\site-packages\\xgboost\\core.py:158: UserWarning: [21:53:33] WARNING: D:\\bld\\xgboost-split_1722454234704\\work\\src\\context.cc:196: XGBoost is not compiled with CUDA support.\n",
      "  warnings.warn(smsg, UserWarning)\n"
     ]
    },
    {
     "name": "stdout",
     "output_type": "stream",
     "text": [
      "[CV 4/5] END device=gpu, gamma=0.001, learning_rate=0.15, max_depth=2, min_child_weight=6, reg_alpha=0.001, subsample=0.8;, score=0.632 total time=   0.3s\n"
     ]
    },
    {
     "name": "stderr",
     "output_type": "stream",
     "text": [
      "C:\\Users\\Saltp\\anaconda3\\Lib\\site-packages\\xgboost\\core.py:158: UserWarning: [21:53:33] WARNING: D:\\bld\\xgboost-split_1722454234704\\work\\src\\context.cc:196: XGBoost is not compiled with CUDA support.\n",
      "  warnings.warn(smsg, UserWarning)\n"
     ]
    },
    {
     "name": "stdout",
     "output_type": "stream",
     "text": [
      "[CV 5/5] END device=gpu, gamma=0.001, learning_rate=0.15, max_depth=2, min_child_weight=6, reg_alpha=0.001, subsample=0.8;, score=0.650 total time=   0.3s\n"
     ]
    },
    {
     "name": "stderr",
     "output_type": "stream",
     "text": [
      "C:\\Users\\Saltp\\anaconda3\\Lib\\site-packages\\xgboost\\core.py:158: UserWarning: [21:53:34] WARNING: D:\\bld\\xgboost-split_1722454234704\\work\\src\\context.cc:196: XGBoost is not compiled with CUDA support.\n",
      "  warnings.warn(smsg, UserWarning)\n"
     ]
    },
    {
     "name": "stdout",
     "output_type": "stream",
     "text": [
      "[CV 1/5] END device=gpu, gamma=0.001, learning_rate=0.15, max_depth=2, min_child_weight=6, reg_alpha=0.001, subsample=1;, score=0.635 total time=   0.2s\n"
     ]
    },
    {
     "name": "stderr",
     "output_type": "stream",
     "text": [
      "C:\\Users\\Saltp\\anaconda3\\Lib\\site-packages\\xgboost\\core.py:158: UserWarning: [21:53:34] WARNING: D:\\bld\\xgboost-split_1722454234704\\work\\src\\context.cc:196: XGBoost is not compiled with CUDA support.\n",
      "  warnings.warn(smsg, UserWarning)\n"
     ]
    },
    {
     "name": "stdout",
     "output_type": "stream",
     "text": [
      "[CV 2/5] END device=gpu, gamma=0.001, learning_rate=0.15, max_depth=2, min_child_weight=6, reg_alpha=0.001, subsample=1;, score=0.632 total time=   0.2s\n"
     ]
    },
    {
     "name": "stderr",
     "output_type": "stream",
     "text": [
      "C:\\Users\\Saltp\\anaconda3\\Lib\\site-packages\\xgboost\\core.py:158: UserWarning: [21:53:35] WARNING: D:\\bld\\xgboost-split_1722454234704\\work\\src\\context.cc:196: XGBoost is not compiled with CUDA support.\n",
      "  warnings.warn(smsg, UserWarning)\n"
     ]
    },
    {
     "name": "stdout",
     "output_type": "stream",
     "text": [
      "[CV 3/5] END device=gpu, gamma=0.001, learning_rate=0.15, max_depth=2, min_child_weight=6, reg_alpha=0.001, subsample=1;, score=0.652 total time=   0.4s\n"
     ]
    },
    {
     "name": "stderr",
     "output_type": "stream",
     "text": [
      "C:\\Users\\Saltp\\anaconda3\\Lib\\site-packages\\xgboost\\core.py:158: UserWarning: [21:53:35] WARNING: D:\\bld\\xgboost-split_1722454234704\\work\\src\\context.cc:196: XGBoost is not compiled with CUDA support.\n",
      "  warnings.warn(smsg, UserWarning)\n"
     ]
    },
    {
     "name": "stdout",
     "output_type": "stream",
     "text": [
      "[CV 4/5] END device=gpu, gamma=0.001, learning_rate=0.15, max_depth=2, min_child_weight=6, reg_alpha=0.001, subsample=1;, score=0.628 total time=   0.5s\n"
     ]
    },
    {
     "name": "stderr",
     "output_type": "stream",
     "text": [
      "C:\\Users\\Saltp\\anaconda3\\Lib\\site-packages\\xgboost\\core.py:158: UserWarning: [21:53:36] WARNING: D:\\bld\\xgboost-split_1722454234704\\work\\src\\context.cc:196: XGBoost is not compiled with CUDA support.\n",
      "  warnings.warn(smsg, UserWarning)\n"
     ]
    },
    {
     "name": "stdout",
     "output_type": "stream",
     "text": [
      "[CV 5/5] END device=gpu, gamma=0.001, learning_rate=0.15, max_depth=2, min_child_weight=6, reg_alpha=0.001, subsample=1;, score=0.650 total time=   0.9s\n"
     ]
    },
    {
     "name": "stderr",
     "output_type": "stream",
     "text": [
      "C:\\Users\\Saltp\\anaconda3\\Lib\\site-packages\\xgboost\\core.py:158: UserWarning: [21:53:37] WARNING: D:\\bld\\xgboost-split_1722454234704\\work\\src\\context.cc:196: XGBoost is not compiled with CUDA support.\n",
      "  warnings.warn(smsg, UserWarning)\n"
     ]
    },
    {
     "name": "stdout",
     "output_type": "stream",
     "text": [
      "[CV 1/5] END device=gpu, gamma=0.001, learning_rate=0.15, max_depth=2, min_child_weight=6, reg_alpha=0.01, subsample=0.8;, score=0.635 total time=   0.5s\n"
     ]
    },
    {
     "name": "stderr",
     "output_type": "stream",
     "text": [
      "C:\\Users\\Saltp\\anaconda3\\Lib\\site-packages\\xgboost\\core.py:158: UserWarning: [21:53:37] WARNING: D:\\bld\\xgboost-split_1722454234704\\work\\src\\context.cc:196: XGBoost is not compiled with CUDA support.\n",
      "  warnings.warn(smsg, UserWarning)\n"
     ]
    },
    {
     "name": "stdout",
     "output_type": "stream",
     "text": [
      "[CV 2/5] END device=gpu, gamma=0.001, learning_rate=0.15, max_depth=2, min_child_weight=6, reg_alpha=0.01, subsample=0.8;, score=0.634 total time=   0.6s\n"
     ]
    },
    {
     "name": "stderr",
     "output_type": "stream",
     "text": [
      "C:\\Users\\Saltp\\anaconda3\\Lib\\site-packages\\xgboost\\core.py:158: UserWarning: [21:53:38] WARNING: D:\\bld\\xgboost-split_1722454234704\\work\\src\\context.cc:196: XGBoost is not compiled with CUDA support.\n",
      "  warnings.warn(smsg, UserWarning)\n"
     ]
    },
    {
     "name": "stdout",
     "output_type": "stream",
     "text": [
      "[CV 3/5] END device=gpu, gamma=0.001, learning_rate=0.15, max_depth=2, min_child_weight=6, reg_alpha=0.01, subsample=0.8;, score=0.655 total time=   0.4s\n"
     ]
    },
    {
     "name": "stderr",
     "output_type": "stream",
     "text": [
      "C:\\Users\\Saltp\\anaconda3\\Lib\\site-packages\\xgboost\\core.py:158: UserWarning: [21:53:38] WARNING: D:\\bld\\xgboost-split_1722454234704\\work\\src\\context.cc:196: XGBoost is not compiled with CUDA support.\n",
      "  warnings.warn(smsg, UserWarning)\n"
     ]
    },
    {
     "name": "stdout",
     "output_type": "stream",
     "text": [
      "[CV 4/5] END device=gpu, gamma=0.001, learning_rate=0.15, max_depth=2, min_child_weight=6, reg_alpha=0.01, subsample=0.8;, score=0.632 total time=   0.4s\n"
     ]
    },
    {
     "name": "stderr",
     "output_type": "stream",
     "text": [
      "C:\\Users\\Saltp\\anaconda3\\Lib\\site-packages\\xgboost\\core.py:158: UserWarning: [21:53:39] WARNING: D:\\bld\\xgboost-split_1722454234704\\work\\src\\context.cc:196: XGBoost is not compiled with CUDA support.\n",
      "  warnings.warn(smsg, UserWarning)\n"
     ]
    },
    {
     "name": "stdout",
     "output_type": "stream",
     "text": [
      "[CV 5/5] END device=gpu, gamma=0.001, learning_rate=0.15, max_depth=2, min_child_weight=6, reg_alpha=0.01, subsample=0.8;, score=0.650 total time=   0.4s\n"
     ]
    },
    {
     "name": "stderr",
     "output_type": "stream",
     "text": [
      "C:\\Users\\Saltp\\anaconda3\\Lib\\site-packages\\xgboost\\core.py:158: UserWarning: [21:53:39] WARNING: D:\\bld\\xgboost-split_1722454234704\\work\\src\\context.cc:196: XGBoost is not compiled with CUDA support.\n",
      "  warnings.warn(smsg, UserWarning)\n"
     ]
    }
   ],
   "source": [
    "#XGB\n",
    "#Ran this python doc from 9-18 to 9-20\n",
    "import numpy as np\n",
    "#Params from https://www.mdpi.com/2072-4292/15/20/5001\n",
    "XGB_params = {'learning_rate': np.arange (0.15, 0.2, 0.05),\n",
    "'gamma':np.arange (0.001, 0.005, 0.001),\n",
    "'min_child_weight':np.arange (5, 10, 1),\n",
    "'max_depth':np.arange (2, 10, 1),\n",
    "'subsample':[0.8, 1],\n",
    "'reg_alpha':[0.001, 0.01, 0.1, 1]\n",
    "             }\n",
    "\n",
    "for red_method, dataset_block in dataset.items():\n",
    "    train = dataset_block['train']\n",
    "    XG_model = train_XG_boost(train, XGB_params)\n",
    "    for parameter, parameter_block in train.items():\n",
    "        dataset[red_method]['train'][parameter]['XG_block']= test_model(XG_model[parameter], dataset_block, parameter)"
   ]
  },
  {
   "cell_type": "code",
   "execution_count": null,
   "id": "f97cd1e6-ed92-4561-94a8-e3db247d0087",
   "metadata": {},
   "outputs": [],
   "source": [
    "#with open('models_XG_and_Linear.pickle', 'wb') as handle:\n",
    "#    pickle.dump(dataset, handle)"
   ]
  },
  {
   "cell_type": "code",
   "execution_count": 2,
   "id": "a9b40f83-f677-4f90-9d6e-d3859c0e05e1",
   "metadata": {},
   "outputs": [],
   "source": [
    "from pathlib import Path\n",
    "import pickle\n",
    "root = Path(r'Model_Fitting.ipnyb').absolute().parent.parent.parent\n",
    "with open(str(root)+r\"\\data\\processed_data\\0.4_dataset_preprocessing.pickle\",'rb') as handle:\n",
    "    dataset = pickle.load(handle) "
   ]
  },
  {
   "cell_type": "code",
   "execution_count": 3,
   "id": "fc7b85dd-150d-4ab8-9aca-5f7b53733885",
   "metadata": {},
   "outputs": [],
   "source": [
    "%run Models.ipynb\n"
   ]
  },
  {
   "cell_type": "code",
   "execution_count": 24,
   "id": "24dbebda-6c89-422c-b3be-93fa3b23fd26",
   "metadata": {},
   "outputs": [],
   "source": [
    "#Add XG_Linear retrieval"
   ]
  },
  {
   "cell_type": "code",
   "execution_count": 26,
   "id": "d12f457d-97d8-408c-9868-070ef63a201c",
   "metadata": {},
   "outputs": [],
   "source": [
    "for red_method, dataset_block in dataset.items():\n",
    "    train = dataset_block['train']\n",
    "    Dummy = train_dummy(train)\n",
    "    for parameter, parameter_block in train.items():\n",
    "        dataset[red_method]['train'][parameter]['Dummy']= test_model(Dummy[parameter], dataset_block, parameter)"
   ]
  },
  {
   "cell_type": "code",
   "execution_count": 28,
   "id": "765fcbb9-ae80-4780-98da-037634584e67",
   "metadata": {
    "scrolled": true
   },
   "outputs": [
    {
     "name": "stdout",
     "output_type": "stream",
     "text": [
      "Fitting 5 folds for each of 45 candidates, totalling 225 fits\n",
      "Fitting 5 folds for each of 45 candidates, totalling 225 fits\n",
      "Fitting 5 folds for each of 45 candidates, totalling 225 fits\n",
      "Fitting 5 folds for each of 45 candidates, totalling 225 fits\n",
      "Fitting 5 folds for each of 45 candidates, totalling 225 fits\n",
      "Fitting 5 folds for each of 45 candidates, totalling 225 fits\n",
      "Fitting 5 folds for each of 45 candidates, totalling 225 fits\n",
      "Fitting 5 folds for each of 45 candidates, totalling 225 fits\n",
      "Fitting 5 folds for each of 45 candidates, totalling 225 fits\n",
      "Fitting 5 folds for each of 45 candidates, totalling 225 fits\n",
      "Fitting 5 folds for each of 45 candidates, totalling 225 fits\n",
      "Fitting 5 folds for each of 45 candidates, totalling 225 fits\n",
      "Fitting 5 folds for each of 45 candidates, totalling 225 fits\n",
      "Fitting 5 folds for each of 45 candidates, totalling 225 fits\n",
      "Fitting 5 folds for each of 45 candidates, totalling 225 fits\n",
      "Fitting 5 folds for each of 45 candidates, totalling 225 fits\n",
      "Fitting 5 folds for each of 45 candidates, totalling 225 fits\n",
      "Fitting 5 folds for each of 45 candidates, totalling 225 fits\n",
      "Fitting 5 folds for each of 45 candidates, totalling 225 fits\n",
      "Fitting 5 folds for each of 45 candidates, totalling 225 fits\n",
      "Fitting 5 folds for each of 45 candidates, totalling 225 fits\n",
      "Fitting 5 folds for each of 45 candidates, totalling 225 fits\n",
      "Fitting 5 folds for each of 45 candidates, totalling 225 fits\n",
      "Fitting 5 folds for each of 45 candidates, totalling 225 fits\n"
     ]
    }
   ],
   "source": [
    "\n",
    "import numpy as np\n",
    "for red_method, dataset_block in dataset.items():\n",
    "    train = dataset_block['train']\n",
    "    params = {'n_neighbors':np.arange(5,50,1)}\n",
    "    KNN = train_KNN(train, params)\n",
    "    for parameter, parameter_block in train.items():\n",
    "        dataset[red_method]['train'][parameter]['KNN']= KNN[parameter]"
   ]
  },
  {
   "cell_type": "code",
   "execution_count": 29,
   "id": "d3e1eae3-32d4-4ae6-a2ee-60483184dd32",
   "metadata": {},
   "outputs": [],
   "source": [
    "with open('models_KNN.pickle', 'wb') as handle:\n",
    "    pickle.dump(dataset, handle)\n"
   ]
  },
  {
   "cell_type": "code",
   "execution_count": null,
   "id": "c742b5e5-1e2b-4e9b-9e4a-8c6ed54a86b7",
   "metadata": {},
   "outputs": [
    {
     "name": "stdout",
     "output_type": "stream",
     "text": [
      "Fitting 5 folds for each of 12 candidates, totalling 60 fits\n"
     ]
    }
   ],
   "source": [
    "#SVR\n",
    "for red_method, dataset_block in dataset.items():\n",
    "    train = dataset_block['train']\n",
    "    params = {'svr__C':np.arange(1, 10, 5),\n",
    "                'svr__kernel':['linear', 'rbf','sigmoid'],\n",
    "                'svr__gamma': np.arange(1,10,5)\n",
    "             }\n",
    "    SVR_file = train_SVR(train, params)\n",
    "    for parameter, parameter_block in train.items():\n",
    "        dataset[red_method]['train'][parameter]['SVR']= SVR_file[parameter]\n"
   ]
  },
  {
   "cell_type": "code",
   "execution_count": null,
   "id": "594a6718-a37a-48eb-b356-89d7a391c609",
   "metadata": {},
   "outputs": [],
   "source": [
    "dat = dataset[' point']['train'][30]"
   ]
  },
  {
   "cell_type": "code",
   "execution_count": null,
   "id": "2b814ead-e874-45d9-b764-b0519442e82c",
   "metadata": {},
   "outputs": [],
   "source": []
  },
  {
   "cell_type": "code",
   "execution_count": null,
   "id": "ec0c0daf-c7d2-462b-bd08-b4e89a64a522",
   "metadata": {},
   "outputs": [],
   "source": [
    "from datetime import datetime\n",
    "\n",
    "print(datetime.now())\n",
    "params = {'C': [1]}\n",
    "rf = SVR() \n",
    "crf = GridSearchCV(rf,params, verbose = 1)\n",
    "crf.fit(dat['X_train'],dat['y_train'])\n",
    "\n",
    "print(datetime.now())\n",
    "#about 1 minute a fit\n",
    "#3000 fits * 28 models \n",
    "#Around a day"
   ]
  },
  {
   "cell_type": "code",
   "execution_count": null,
   "id": "eaacd3ed-3669-4759-b75d-5c0c63a6ddaa",
   "metadata": {},
   "outputs": [],
   "source": []
  },
  {
   "cell_type": "code",
   "execution_count": null,
   "id": "0b4d4dee-9a16-4395-b4e2-a3bdda56b10e",
   "metadata": {},
   "outputs": [],
   "source": []
  },
  {
   "cell_type": "code",
   "execution_count": null,
   "id": "b0b00bbe-39bd-4c76-94b7-97dba6ccddfa",
   "metadata": {},
   "outputs": [],
   "source": [
    "with open('models_KNN_and_SVR.pickle', 'wb') as handle:\n",
    "    pickle.dump(dataset, handle)"
   ]
  },
  {
   "cell_type": "code",
   "execution_count": null,
   "id": "8bed35e5-3117-47c5-9a29-2e2e5fc9848c",
   "metadata": {},
   "outputs": [],
   "source": []
  },
  {
   "cell_type": "code",
   "execution_count": null,
   "id": "4cb82b79-1ef7-4408-b8b9-ab8a172ac4cd",
   "metadata": {},
   "outputs": [],
   "source": []
  },
  {
   "cell_type": "code",
   "execution_count": null,
   "id": "32423c59-00db-4624-808d-e2d27f8a0b9e",
   "metadata": {},
   "outputs": [],
   "source": []
  },
  {
   "cell_type": "code",
   "execution_count": null,
   "id": "43d8b67c-ba34-42c0-a6a9-1fdc574a6146",
   "metadata": {},
   "outputs": [],
   "source": [
    "#Need RF and NN"
   ]
  },
  {
   "cell_type": "code",
   "execution_count": 5,
   "id": "c737c513-237d-49bc-815a-75b215add990",
   "metadata": {},
   "outputs": [
    {
     "name": "stdout",
     "output_type": "stream",
     "text": [
      "Fitting 5 folds for each of 3600 candidates, totalling 18000 fits\n"
     ]
    },
    {
     "ename": "KeyboardInterrupt",
     "evalue": "",
     "output_type": "error",
     "traceback": [
      "\u001b[1;31m---------------------------------------------------------------------------\u001b[0m",
      "\u001b[1;31mKeyboardInterrupt\u001b[0m                         Traceback (most recent call last)",
      "Cell \u001b[1;32mIn[5], line 10\u001b[0m\n\u001b[0;32m      4\u001b[0m train \u001b[38;5;241m=\u001b[39m dataset_block[\u001b[38;5;124m'\u001b[39m\u001b[38;5;124mtrain\u001b[39m\u001b[38;5;124m'\u001b[39m]\n\u001b[0;32m      5\u001b[0m params \u001b[38;5;241m=\u001b[39m {\u001b[38;5;124m'\u001b[39m\u001b[38;5;124mn_estimators\u001b[39m\u001b[38;5;124m'\u001b[39m:np\u001b[38;5;241m.\u001b[39marange(\u001b[38;5;241m10\u001b[39m, \u001b[38;5;241m600\u001b[39m, \u001b[38;5;241m20\u001b[39m),\n\u001b[0;32m      6\u001b[0m \u001b[38;5;124m\"\u001b[39m\u001b[38;5;124mmax_depth\u001b[39m\u001b[38;5;124m\"\u001b[39m:np\u001b[38;5;241m.\u001b[39marange (\u001b[38;5;241m10\u001b[39m, \u001b[38;5;241m50\u001b[39m, \u001b[38;5;241m10\u001b[39m),\n\u001b[0;32m      7\u001b[0m \u001b[38;5;124m\"\u001b[39m\u001b[38;5;124mmin_samples_split\u001b[39m\u001b[38;5;124m\"\u001b[39m:np\u001b[38;5;241m.\u001b[39marange (\u001b[38;5;241m1\u001b[39m, \u001b[38;5;241m50\u001b[39m, \u001b[38;5;241m5\u001b[39m),\n\u001b[0;32m      8\u001b[0m \u001b[38;5;124m\"\u001b[39m\u001b[38;5;124mmin_samples_leaf\u001b[39m\u001b[38;5;124m\"\u001b[39m:np\u001b[38;5;241m.\u001b[39marange (\u001b[38;5;241m1\u001b[39m, \u001b[38;5;241m12\u001b[39m, \u001b[38;5;241m5\u001b[39m)}\n\u001b[1;32m---> 10\u001b[0m RF \u001b[38;5;241m=\u001b[39m train_RF(train, params)\n\u001b[0;32m     11\u001b[0m \u001b[38;5;28;01mfor\u001b[39;00m parameter, parameter_block \u001b[38;5;129;01min\u001b[39;00m train\u001b[38;5;241m.\u001b[39mitems():\n\u001b[0;32m     12\u001b[0m     dataset[red_method][\u001b[38;5;124m'\u001b[39m\u001b[38;5;124mtrain\u001b[39m\u001b[38;5;124m'\u001b[39m][parameter][\u001b[38;5;124m'\u001b[39m\u001b[38;5;124mRF\u001b[39m\u001b[38;5;124m'\u001b[39m]\u001b[38;5;241m=\u001b[39m RF[parameter]\n",
      "File \u001b[1;32m~\\AppData\\Local\\Temp\\ipykernel_23116\\2134044226.py:13\u001b[0m, in \u001b[0;36mtrain_RF\u001b[1;34m(formatted_dataset, params)\u001b[0m\n\u001b[0;32m     11\u001b[0m rf \u001b[38;5;241m=\u001b[39m RandomForestRegressor() \u001b[38;5;66;03m#GRADIENT BOOSTING TREE AND RANDOM FOREST ARE DIFFERENT\u001b[39;00m\n\u001b[0;32m     12\u001b[0m crf \u001b[38;5;241m=\u001b[39m GridSearchCV(rf,params, verbose \u001b[38;5;241m=\u001b[39m \u001b[38;5;241m1\u001b[39m)\n\u001b[1;32m---> 13\u001b[0m crf\u001b[38;5;241m.\u001b[39mfit(X,y)\n\u001b[0;32m     15\u001b[0m best_model \u001b[38;5;241m=\u001b[39m crf\u001b[38;5;241m.\u001b[39mbest_estimator_\n\u001b[0;32m     17\u001b[0m RF_models[key] \u001b[38;5;241m=\u001b[39m {\u001b[38;5;124m\"\u001b[39m\u001b[38;5;124mgridsearch\u001b[39m\u001b[38;5;124m\"\u001b[39m: crf, \u001b[38;5;124m\"\u001b[39m\u001b[38;5;124mmodel\u001b[39m\u001b[38;5;124m\"\u001b[39m:best_model, \u001b[38;5;124m\"\u001b[39m\u001b[38;5;124mparams\u001b[39m\u001b[38;5;124m\"\u001b[39m: crf\u001b[38;5;241m.\u001b[39mget_params(), \u001b[38;5;124m\"\u001b[39m\u001b[38;5;124mscore\u001b[39m\u001b[38;5;124m\"\u001b[39m:crf\u001b[38;5;241m.\u001b[39mscore(obs_set[\u001b[38;5;124m\"\u001b[39m\u001b[38;5;124mX_test\u001b[39m\u001b[38;5;124m\"\u001b[39m], obs_set[\u001b[38;5;124m\"\u001b[39m\u001b[38;5;124my_test\u001b[39m\u001b[38;5;124m\"\u001b[39m]), \u001b[38;5;124m\"\u001b[39m\u001b[38;5;124mRMSE\u001b[39m\u001b[38;5;124m\"\u001b[39m:np_RMSE(crf\u001b[38;5;241m.\u001b[39mpredict(obs_set[\u001b[38;5;124m\"\u001b[39m\u001b[38;5;124mX_test\u001b[39m\u001b[38;5;124m\"\u001b[39m]),obs_set[\u001b[38;5;124m\"\u001b[39m\u001b[38;5;124my_test\u001b[39m\u001b[38;5;124m\"\u001b[39m], key)}\n",
      "File \u001b[1;32m~\\anaconda3\\Lib\\site-packages\\sklearn\\base.py:1473\u001b[0m, in \u001b[0;36m_fit_context.<locals>.decorator.<locals>.wrapper\u001b[1;34m(estimator, *args, **kwargs)\u001b[0m\n\u001b[0;32m   1466\u001b[0m     estimator\u001b[38;5;241m.\u001b[39m_validate_params()\n\u001b[0;32m   1468\u001b[0m \u001b[38;5;28;01mwith\u001b[39;00m config_context(\n\u001b[0;32m   1469\u001b[0m     skip_parameter_validation\u001b[38;5;241m=\u001b[39m(\n\u001b[0;32m   1470\u001b[0m         prefer_skip_nested_validation \u001b[38;5;129;01mor\u001b[39;00m global_skip_validation\n\u001b[0;32m   1471\u001b[0m     )\n\u001b[0;32m   1472\u001b[0m ):\n\u001b[1;32m-> 1473\u001b[0m     \u001b[38;5;28;01mreturn\u001b[39;00m fit_method(estimator, \u001b[38;5;241m*\u001b[39margs, \u001b[38;5;241m*\u001b[39m\u001b[38;5;241m*\u001b[39mkwargs)\n",
      "File \u001b[1;32m~\\anaconda3\\Lib\\site-packages\\sklearn\\model_selection\\_search.py:1018\u001b[0m, in \u001b[0;36mBaseSearchCV.fit\u001b[1;34m(self, X, y, **params)\u001b[0m\n\u001b[0;32m   1012\u001b[0m     results \u001b[38;5;241m=\u001b[39m \u001b[38;5;28mself\u001b[39m\u001b[38;5;241m.\u001b[39m_format_results(\n\u001b[0;32m   1013\u001b[0m         all_candidate_params, n_splits, all_out, all_more_results\n\u001b[0;32m   1014\u001b[0m     )\n\u001b[0;32m   1016\u001b[0m     \u001b[38;5;28;01mreturn\u001b[39;00m results\n\u001b[1;32m-> 1018\u001b[0m \u001b[38;5;28mself\u001b[39m\u001b[38;5;241m.\u001b[39m_run_search(evaluate_candidates)\n\u001b[0;32m   1020\u001b[0m \u001b[38;5;66;03m# multimetric is determined here because in the case of a callable\u001b[39;00m\n\u001b[0;32m   1021\u001b[0m \u001b[38;5;66;03m# self.scoring the return type is only known after calling\u001b[39;00m\n\u001b[0;32m   1022\u001b[0m first_test_score \u001b[38;5;241m=\u001b[39m all_out[\u001b[38;5;241m0\u001b[39m][\u001b[38;5;124m\"\u001b[39m\u001b[38;5;124mtest_scores\u001b[39m\u001b[38;5;124m\"\u001b[39m]\n",
      "File \u001b[1;32m~\\anaconda3\\Lib\\site-packages\\sklearn\\model_selection\\_search.py:1572\u001b[0m, in \u001b[0;36mGridSearchCV._run_search\u001b[1;34m(self, evaluate_candidates)\u001b[0m\n\u001b[0;32m   1570\u001b[0m \u001b[38;5;28;01mdef\u001b[39;00m \u001b[38;5;21m_run_search\u001b[39m(\u001b[38;5;28mself\u001b[39m, evaluate_candidates):\n\u001b[0;32m   1571\u001b[0m \u001b[38;5;250m    \u001b[39m\u001b[38;5;124;03m\"\"\"Search all candidates in param_grid\"\"\"\u001b[39;00m\n\u001b[1;32m-> 1572\u001b[0m     evaluate_candidates(ParameterGrid(\u001b[38;5;28mself\u001b[39m\u001b[38;5;241m.\u001b[39mparam_grid))\n",
      "File \u001b[1;32m~\\anaconda3\\Lib\\site-packages\\sklearn\\model_selection\\_search.py:964\u001b[0m, in \u001b[0;36mBaseSearchCV.fit.<locals>.evaluate_candidates\u001b[1;34m(candidate_params, cv, more_results)\u001b[0m\n\u001b[0;32m    956\u001b[0m \u001b[38;5;28;01mif\u001b[39;00m \u001b[38;5;28mself\u001b[39m\u001b[38;5;241m.\u001b[39mverbose \u001b[38;5;241m>\u001b[39m \u001b[38;5;241m0\u001b[39m:\n\u001b[0;32m    957\u001b[0m     \u001b[38;5;28mprint\u001b[39m(\n\u001b[0;32m    958\u001b[0m         \u001b[38;5;124m\"\u001b[39m\u001b[38;5;124mFitting \u001b[39m\u001b[38;5;132;01m{0}\u001b[39;00m\u001b[38;5;124m folds for each of \u001b[39m\u001b[38;5;132;01m{1}\u001b[39;00m\u001b[38;5;124m candidates,\u001b[39m\u001b[38;5;124m\"\u001b[39m\n\u001b[0;32m    959\u001b[0m         \u001b[38;5;124m\"\u001b[39m\u001b[38;5;124m totalling \u001b[39m\u001b[38;5;132;01m{2}\u001b[39;00m\u001b[38;5;124m fits\u001b[39m\u001b[38;5;124m\"\u001b[39m\u001b[38;5;241m.\u001b[39mformat(\n\u001b[0;32m    960\u001b[0m             n_splits, n_candidates, n_candidates \u001b[38;5;241m*\u001b[39m n_splits\n\u001b[0;32m    961\u001b[0m         )\n\u001b[0;32m    962\u001b[0m     )\n\u001b[1;32m--> 964\u001b[0m out \u001b[38;5;241m=\u001b[39m parallel(\n\u001b[0;32m    965\u001b[0m     delayed(_fit_and_score)(\n\u001b[0;32m    966\u001b[0m         clone(base_estimator),\n\u001b[0;32m    967\u001b[0m         X,\n\u001b[0;32m    968\u001b[0m         y,\n\u001b[0;32m    969\u001b[0m         train\u001b[38;5;241m=\u001b[39mtrain,\n\u001b[0;32m    970\u001b[0m         test\u001b[38;5;241m=\u001b[39mtest,\n\u001b[0;32m    971\u001b[0m         parameters\u001b[38;5;241m=\u001b[39mparameters,\n\u001b[0;32m    972\u001b[0m         split_progress\u001b[38;5;241m=\u001b[39m(split_idx, n_splits),\n\u001b[0;32m    973\u001b[0m         candidate_progress\u001b[38;5;241m=\u001b[39m(cand_idx, n_candidates),\n\u001b[0;32m    974\u001b[0m         \u001b[38;5;241m*\u001b[39m\u001b[38;5;241m*\u001b[39mfit_and_score_kwargs,\n\u001b[0;32m    975\u001b[0m     )\n\u001b[0;32m    976\u001b[0m     \u001b[38;5;28;01mfor\u001b[39;00m (cand_idx, parameters), (split_idx, (train, test)) \u001b[38;5;129;01min\u001b[39;00m product(\n\u001b[0;32m    977\u001b[0m         \u001b[38;5;28menumerate\u001b[39m(candidate_params),\n\u001b[0;32m    978\u001b[0m         \u001b[38;5;28menumerate\u001b[39m(cv\u001b[38;5;241m.\u001b[39msplit(X, y, \u001b[38;5;241m*\u001b[39m\u001b[38;5;241m*\u001b[39mrouted_params\u001b[38;5;241m.\u001b[39msplitter\u001b[38;5;241m.\u001b[39msplit)),\n\u001b[0;32m    979\u001b[0m     )\n\u001b[0;32m    980\u001b[0m )\n\u001b[0;32m    982\u001b[0m \u001b[38;5;28;01mif\u001b[39;00m \u001b[38;5;28mlen\u001b[39m(out) \u001b[38;5;241m<\u001b[39m \u001b[38;5;241m1\u001b[39m:\n\u001b[0;32m    983\u001b[0m     \u001b[38;5;28;01mraise\u001b[39;00m \u001b[38;5;167;01mValueError\u001b[39;00m(\n\u001b[0;32m    984\u001b[0m         \u001b[38;5;124m\"\u001b[39m\u001b[38;5;124mNo fits were performed. \u001b[39m\u001b[38;5;124m\"\u001b[39m\n\u001b[0;32m    985\u001b[0m         \u001b[38;5;124m\"\u001b[39m\u001b[38;5;124mWas the CV iterator empty? \u001b[39m\u001b[38;5;124m\"\u001b[39m\n\u001b[0;32m    986\u001b[0m         \u001b[38;5;124m\"\u001b[39m\u001b[38;5;124mWere there no candidates?\u001b[39m\u001b[38;5;124m\"\u001b[39m\n\u001b[0;32m    987\u001b[0m     )\n",
      "File \u001b[1;32m~\\anaconda3\\Lib\\site-packages\\sklearn\\utils\\parallel.py:74\u001b[0m, in \u001b[0;36mParallel.__call__\u001b[1;34m(self, iterable)\u001b[0m\n\u001b[0;32m     69\u001b[0m config \u001b[38;5;241m=\u001b[39m get_config()\n\u001b[0;32m     70\u001b[0m iterable_with_config \u001b[38;5;241m=\u001b[39m (\n\u001b[0;32m     71\u001b[0m     (_with_config(delayed_func, config), args, kwargs)\n\u001b[0;32m     72\u001b[0m     \u001b[38;5;28;01mfor\u001b[39;00m delayed_func, args, kwargs \u001b[38;5;129;01min\u001b[39;00m iterable\n\u001b[0;32m     73\u001b[0m )\n\u001b[1;32m---> 74\u001b[0m \u001b[38;5;28;01mreturn\u001b[39;00m \u001b[38;5;28msuper\u001b[39m()\u001b[38;5;241m.\u001b[39m\u001b[38;5;21m__call__\u001b[39m(iterable_with_config)\n",
      "File \u001b[1;32m~\\anaconda3\\Lib\\site-packages\\joblib\\parallel.py:1918\u001b[0m, in \u001b[0;36mParallel.__call__\u001b[1;34m(self, iterable)\u001b[0m\n\u001b[0;32m   1916\u001b[0m     output \u001b[38;5;241m=\u001b[39m \u001b[38;5;28mself\u001b[39m\u001b[38;5;241m.\u001b[39m_get_sequential_output(iterable)\n\u001b[0;32m   1917\u001b[0m     \u001b[38;5;28mnext\u001b[39m(output)\n\u001b[1;32m-> 1918\u001b[0m     \u001b[38;5;28;01mreturn\u001b[39;00m output \u001b[38;5;28;01mif\u001b[39;00m \u001b[38;5;28mself\u001b[39m\u001b[38;5;241m.\u001b[39mreturn_generator \u001b[38;5;28;01melse\u001b[39;00m \u001b[38;5;28mlist\u001b[39m(output)\n\u001b[0;32m   1920\u001b[0m \u001b[38;5;66;03m# Let's create an ID that uniquely identifies the current call. If the\u001b[39;00m\n\u001b[0;32m   1921\u001b[0m \u001b[38;5;66;03m# call is interrupted early and that the same instance is immediately\u001b[39;00m\n\u001b[0;32m   1922\u001b[0m \u001b[38;5;66;03m# re-used, this id will be used to prevent workers that were\u001b[39;00m\n\u001b[0;32m   1923\u001b[0m \u001b[38;5;66;03m# concurrently finalizing a task from the previous call to run the\u001b[39;00m\n\u001b[0;32m   1924\u001b[0m \u001b[38;5;66;03m# callback.\u001b[39;00m\n\u001b[0;32m   1925\u001b[0m \u001b[38;5;28;01mwith\u001b[39;00m \u001b[38;5;28mself\u001b[39m\u001b[38;5;241m.\u001b[39m_lock:\n",
      "File \u001b[1;32m~\\anaconda3\\Lib\\site-packages\\joblib\\parallel.py:1847\u001b[0m, in \u001b[0;36mParallel._get_sequential_output\u001b[1;34m(self, iterable)\u001b[0m\n\u001b[0;32m   1845\u001b[0m \u001b[38;5;28mself\u001b[39m\u001b[38;5;241m.\u001b[39mn_dispatched_batches \u001b[38;5;241m+\u001b[39m\u001b[38;5;241m=\u001b[39m \u001b[38;5;241m1\u001b[39m\n\u001b[0;32m   1846\u001b[0m \u001b[38;5;28mself\u001b[39m\u001b[38;5;241m.\u001b[39mn_dispatched_tasks \u001b[38;5;241m+\u001b[39m\u001b[38;5;241m=\u001b[39m \u001b[38;5;241m1\u001b[39m\n\u001b[1;32m-> 1847\u001b[0m res \u001b[38;5;241m=\u001b[39m func(\u001b[38;5;241m*\u001b[39margs, \u001b[38;5;241m*\u001b[39m\u001b[38;5;241m*\u001b[39mkwargs)\n\u001b[0;32m   1848\u001b[0m \u001b[38;5;28mself\u001b[39m\u001b[38;5;241m.\u001b[39mn_completed_tasks \u001b[38;5;241m+\u001b[39m\u001b[38;5;241m=\u001b[39m \u001b[38;5;241m1\u001b[39m\n\u001b[0;32m   1849\u001b[0m \u001b[38;5;28mself\u001b[39m\u001b[38;5;241m.\u001b[39mprint_progress()\n",
      "File \u001b[1;32m~\\anaconda3\\Lib\\site-packages\\sklearn\\utils\\parallel.py:136\u001b[0m, in \u001b[0;36m_FuncWrapper.__call__\u001b[1;34m(self, *args, **kwargs)\u001b[0m\n\u001b[0;32m    134\u001b[0m     config \u001b[38;5;241m=\u001b[39m {}\n\u001b[0;32m    135\u001b[0m \u001b[38;5;28;01mwith\u001b[39;00m config_context(\u001b[38;5;241m*\u001b[39m\u001b[38;5;241m*\u001b[39mconfig):\n\u001b[1;32m--> 136\u001b[0m     \u001b[38;5;28;01mreturn\u001b[39;00m \u001b[38;5;28mself\u001b[39m\u001b[38;5;241m.\u001b[39mfunction(\u001b[38;5;241m*\u001b[39margs, \u001b[38;5;241m*\u001b[39m\u001b[38;5;241m*\u001b[39mkwargs)\n",
      "File \u001b[1;32m~\\anaconda3\\Lib\\site-packages\\sklearn\\model_selection\\_validation.py:888\u001b[0m, in \u001b[0;36m_fit_and_score\u001b[1;34m(estimator, X, y, scorer, train, test, verbose, parameters, fit_params, score_params, return_train_score, return_parameters, return_n_test_samples, return_times, return_estimator, split_progress, candidate_progress, error_score)\u001b[0m\n\u001b[0;32m    886\u001b[0m         estimator\u001b[38;5;241m.\u001b[39mfit(X_train, \u001b[38;5;241m*\u001b[39m\u001b[38;5;241m*\u001b[39mfit_params)\n\u001b[0;32m    887\u001b[0m     \u001b[38;5;28;01melse\u001b[39;00m:\n\u001b[1;32m--> 888\u001b[0m         estimator\u001b[38;5;241m.\u001b[39mfit(X_train, y_train, \u001b[38;5;241m*\u001b[39m\u001b[38;5;241m*\u001b[39mfit_params)\n\u001b[0;32m    890\u001b[0m \u001b[38;5;28;01mexcept\u001b[39;00m \u001b[38;5;167;01mException\u001b[39;00m:\n\u001b[0;32m    891\u001b[0m     \u001b[38;5;66;03m# Note fit time as time until error\u001b[39;00m\n\u001b[0;32m    892\u001b[0m     fit_time \u001b[38;5;241m=\u001b[39m time\u001b[38;5;241m.\u001b[39mtime() \u001b[38;5;241m-\u001b[39m start_time\n",
      "File \u001b[1;32m~\\anaconda3\\Lib\\site-packages\\sklearn\\base.py:1473\u001b[0m, in \u001b[0;36m_fit_context.<locals>.decorator.<locals>.wrapper\u001b[1;34m(estimator, *args, **kwargs)\u001b[0m\n\u001b[0;32m   1466\u001b[0m     estimator\u001b[38;5;241m.\u001b[39m_validate_params()\n\u001b[0;32m   1468\u001b[0m \u001b[38;5;28;01mwith\u001b[39;00m config_context(\n\u001b[0;32m   1469\u001b[0m     skip_parameter_validation\u001b[38;5;241m=\u001b[39m(\n\u001b[0;32m   1470\u001b[0m         prefer_skip_nested_validation \u001b[38;5;129;01mor\u001b[39;00m global_skip_validation\n\u001b[0;32m   1471\u001b[0m     )\n\u001b[0;32m   1472\u001b[0m ):\n\u001b[1;32m-> 1473\u001b[0m     \u001b[38;5;28;01mreturn\u001b[39;00m fit_method(estimator, \u001b[38;5;241m*\u001b[39margs, \u001b[38;5;241m*\u001b[39m\u001b[38;5;241m*\u001b[39mkwargs)\n",
      "File \u001b[1;32m~\\anaconda3\\Lib\\site-packages\\sklearn\\ensemble\\_forest.py:489\u001b[0m, in \u001b[0;36mBaseForest.fit\u001b[1;34m(self, X, y, sample_weight)\u001b[0m\n\u001b[0;32m    478\u001b[0m trees \u001b[38;5;241m=\u001b[39m [\n\u001b[0;32m    479\u001b[0m     \u001b[38;5;28mself\u001b[39m\u001b[38;5;241m.\u001b[39m_make_estimator(append\u001b[38;5;241m=\u001b[39m\u001b[38;5;28;01mFalse\u001b[39;00m, random_state\u001b[38;5;241m=\u001b[39mrandom_state)\n\u001b[0;32m    480\u001b[0m     \u001b[38;5;28;01mfor\u001b[39;00m i \u001b[38;5;129;01min\u001b[39;00m \u001b[38;5;28mrange\u001b[39m(n_more_estimators)\n\u001b[0;32m    481\u001b[0m ]\n\u001b[0;32m    483\u001b[0m \u001b[38;5;66;03m# Parallel loop: we prefer the threading backend as the Cython code\u001b[39;00m\n\u001b[0;32m    484\u001b[0m \u001b[38;5;66;03m# for fitting the trees is internally releasing the Python GIL\u001b[39;00m\n\u001b[0;32m    485\u001b[0m \u001b[38;5;66;03m# making threading more efficient than multiprocessing in\u001b[39;00m\n\u001b[0;32m    486\u001b[0m \u001b[38;5;66;03m# that case. However, for joblib 0.12+ we respect any\u001b[39;00m\n\u001b[0;32m    487\u001b[0m \u001b[38;5;66;03m# parallel_backend contexts set at a higher level,\u001b[39;00m\n\u001b[0;32m    488\u001b[0m \u001b[38;5;66;03m# since correctness does not rely on using threads.\u001b[39;00m\n\u001b[1;32m--> 489\u001b[0m trees \u001b[38;5;241m=\u001b[39m Parallel(\n\u001b[0;32m    490\u001b[0m     n_jobs\u001b[38;5;241m=\u001b[39m\u001b[38;5;28mself\u001b[39m\u001b[38;5;241m.\u001b[39mn_jobs,\n\u001b[0;32m    491\u001b[0m     verbose\u001b[38;5;241m=\u001b[39m\u001b[38;5;28mself\u001b[39m\u001b[38;5;241m.\u001b[39mverbose,\n\u001b[0;32m    492\u001b[0m     prefer\u001b[38;5;241m=\u001b[39m\u001b[38;5;124m\"\u001b[39m\u001b[38;5;124mthreads\u001b[39m\u001b[38;5;124m\"\u001b[39m,\n\u001b[0;32m    493\u001b[0m )(\n\u001b[0;32m    494\u001b[0m     delayed(_parallel_build_trees)(\n\u001b[0;32m    495\u001b[0m         t,\n\u001b[0;32m    496\u001b[0m         \u001b[38;5;28mself\u001b[39m\u001b[38;5;241m.\u001b[39mbootstrap,\n\u001b[0;32m    497\u001b[0m         X,\n\u001b[0;32m    498\u001b[0m         y,\n\u001b[0;32m    499\u001b[0m         sample_weight,\n\u001b[0;32m    500\u001b[0m         i,\n\u001b[0;32m    501\u001b[0m         \u001b[38;5;28mlen\u001b[39m(trees),\n\u001b[0;32m    502\u001b[0m         verbose\u001b[38;5;241m=\u001b[39m\u001b[38;5;28mself\u001b[39m\u001b[38;5;241m.\u001b[39mverbose,\n\u001b[0;32m    503\u001b[0m         class_weight\u001b[38;5;241m=\u001b[39m\u001b[38;5;28mself\u001b[39m\u001b[38;5;241m.\u001b[39mclass_weight,\n\u001b[0;32m    504\u001b[0m         n_samples_bootstrap\u001b[38;5;241m=\u001b[39mn_samples_bootstrap,\n\u001b[0;32m    505\u001b[0m         missing_values_in_feature_mask\u001b[38;5;241m=\u001b[39mmissing_values_in_feature_mask,\n\u001b[0;32m    506\u001b[0m     )\n\u001b[0;32m    507\u001b[0m     \u001b[38;5;28;01mfor\u001b[39;00m i, t \u001b[38;5;129;01min\u001b[39;00m \u001b[38;5;28menumerate\u001b[39m(trees)\n\u001b[0;32m    508\u001b[0m )\n\u001b[0;32m    510\u001b[0m \u001b[38;5;66;03m# Collect newly grown trees\u001b[39;00m\n\u001b[0;32m    511\u001b[0m \u001b[38;5;28mself\u001b[39m\u001b[38;5;241m.\u001b[39mestimators_\u001b[38;5;241m.\u001b[39mextend(trees)\n",
      "File \u001b[1;32m~\\anaconda3\\Lib\\site-packages\\sklearn\\utils\\parallel.py:74\u001b[0m, in \u001b[0;36mParallel.__call__\u001b[1;34m(self, iterable)\u001b[0m\n\u001b[0;32m     69\u001b[0m config \u001b[38;5;241m=\u001b[39m get_config()\n\u001b[0;32m     70\u001b[0m iterable_with_config \u001b[38;5;241m=\u001b[39m (\n\u001b[0;32m     71\u001b[0m     (_with_config(delayed_func, config), args, kwargs)\n\u001b[0;32m     72\u001b[0m     \u001b[38;5;28;01mfor\u001b[39;00m delayed_func, args, kwargs \u001b[38;5;129;01min\u001b[39;00m iterable\n\u001b[0;32m     73\u001b[0m )\n\u001b[1;32m---> 74\u001b[0m \u001b[38;5;28;01mreturn\u001b[39;00m \u001b[38;5;28msuper\u001b[39m()\u001b[38;5;241m.\u001b[39m\u001b[38;5;21m__call__\u001b[39m(iterable_with_config)\n",
      "File \u001b[1;32m~\\anaconda3\\Lib\\site-packages\\joblib\\parallel.py:1918\u001b[0m, in \u001b[0;36mParallel.__call__\u001b[1;34m(self, iterable)\u001b[0m\n\u001b[0;32m   1916\u001b[0m     output \u001b[38;5;241m=\u001b[39m \u001b[38;5;28mself\u001b[39m\u001b[38;5;241m.\u001b[39m_get_sequential_output(iterable)\n\u001b[0;32m   1917\u001b[0m     \u001b[38;5;28mnext\u001b[39m(output)\n\u001b[1;32m-> 1918\u001b[0m     \u001b[38;5;28;01mreturn\u001b[39;00m output \u001b[38;5;28;01mif\u001b[39;00m \u001b[38;5;28mself\u001b[39m\u001b[38;5;241m.\u001b[39mreturn_generator \u001b[38;5;28;01melse\u001b[39;00m \u001b[38;5;28mlist\u001b[39m(output)\n\u001b[0;32m   1920\u001b[0m \u001b[38;5;66;03m# Let's create an ID that uniquely identifies the current call. If the\u001b[39;00m\n\u001b[0;32m   1921\u001b[0m \u001b[38;5;66;03m# call is interrupted early and that the same instance is immediately\u001b[39;00m\n\u001b[0;32m   1922\u001b[0m \u001b[38;5;66;03m# re-used, this id will be used to prevent workers that were\u001b[39;00m\n\u001b[0;32m   1923\u001b[0m \u001b[38;5;66;03m# concurrently finalizing a task from the previous call to run the\u001b[39;00m\n\u001b[0;32m   1924\u001b[0m \u001b[38;5;66;03m# callback.\u001b[39;00m\n\u001b[0;32m   1925\u001b[0m \u001b[38;5;28;01mwith\u001b[39;00m \u001b[38;5;28mself\u001b[39m\u001b[38;5;241m.\u001b[39m_lock:\n",
      "File \u001b[1;32m~\\anaconda3\\Lib\\site-packages\\joblib\\parallel.py:1847\u001b[0m, in \u001b[0;36mParallel._get_sequential_output\u001b[1;34m(self, iterable)\u001b[0m\n\u001b[0;32m   1845\u001b[0m \u001b[38;5;28mself\u001b[39m\u001b[38;5;241m.\u001b[39mn_dispatched_batches \u001b[38;5;241m+\u001b[39m\u001b[38;5;241m=\u001b[39m \u001b[38;5;241m1\u001b[39m\n\u001b[0;32m   1846\u001b[0m \u001b[38;5;28mself\u001b[39m\u001b[38;5;241m.\u001b[39mn_dispatched_tasks \u001b[38;5;241m+\u001b[39m\u001b[38;5;241m=\u001b[39m \u001b[38;5;241m1\u001b[39m\n\u001b[1;32m-> 1847\u001b[0m res \u001b[38;5;241m=\u001b[39m func(\u001b[38;5;241m*\u001b[39margs, \u001b[38;5;241m*\u001b[39m\u001b[38;5;241m*\u001b[39mkwargs)\n\u001b[0;32m   1848\u001b[0m \u001b[38;5;28mself\u001b[39m\u001b[38;5;241m.\u001b[39mn_completed_tasks \u001b[38;5;241m+\u001b[39m\u001b[38;5;241m=\u001b[39m \u001b[38;5;241m1\u001b[39m\n\u001b[0;32m   1849\u001b[0m \u001b[38;5;28mself\u001b[39m\u001b[38;5;241m.\u001b[39mprint_progress()\n",
      "File \u001b[1;32m~\\anaconda3\\Lib\\site-packages\\sklearn\\utils\\parallel.py:136\u001b[0m, in \u001b[0;36m_FuncWrapper.__call__\u001b[1;34m(self, *args, **kwargs)\u001b[0m\n\u001b[0;32m    134\u001b[0m     config \u001b[38;5;241m=\u001b[39m {}\n\u001b[0;32m    135\u001b[0m \u001b[38;5;28;01mwith\u001b[39;00m config_context(\u001b[38;5;241m*\u001b[39m\u001b[38;5;241m*\u001b[39mconfig):\n\u001b[1;32m--> 136\u001b[0m     \u001b[38;5;28;01mreturn\u001b[39;00m \u001b[38;5;28mself\u001b[39m\u001b[38;5;241m.\u001b[39mfunction(\u001b[38;5;241m*\u001b[39margs, \u001b[38;5;241m*\u001b[39m\u001b[38;5;241m*\u001b[39mkwargs)\n",
      "File \u001b[1;32m~\\anaconda3\\Lib\\site-packages\\sklearn\\ensemble\\_forest.py:192\u001b[0m, in \u001b[0;36m_parallel_build_trees\u001b[1;34m(tree, bootstrap, X, y, sample_weight, tree_idx, n_trees, verbose, class_weight, n_samples_bootstrap, missing_values_in_feature_mask)\u001b[0m\n\u001b[0;32m    189\u001b[0m     \u001b[38;5;28;01melif\u001b[39;00m class_weight \u001b[38;5;241m==\u001b[39m \u001b[38;5;124m\"\u001b[39m\u001b[38;5;124mbalanced_subsample\u001b[39m\u001b[38;5;124m\"\u001b[39m:\n\u001b[0;32m    190\u001b[0m         curr_sample_weight \u001b[38;5;241m*\u001b[39m\u001b[38;5;241m=\u001b[39m compute_sample_weight(\u001b[38;5;124m\"\u001b[39m\u001b[38;5;124mbalanced\u001b[39m\u001b[38;5;124m\"\u001b[39m, y, indices\u001b[38;5;241m=\u001b[39mindices)\n\u001b[1;32m--> 192\u001b[0m     tree\u001b[38;5;241m.\u001b[39m_fit(\n\u001b[0;32m    193\u001b[0m         X,\n\u001b[0;32m    194\u001b[0m         y,\n\u001b[0;32m    195\u001b[0m         sample_weight\u001b[38;5;241m=\u001b[39mcurr_sample_weight,\n\u001b[0;32m    196\u001b[0m         check_input\u001b[38;5;241m=\u001b[39m\u001b[38;5;28;01mFalse\u001b[39;00m,\n\u001b[0;32m    197\u001b[0m         missing_values_in_feature_mask\u001b[38;5;241m=\u001b[39mmissing_values_in_feature_mask,\n\u001b[0;32m    198\u001b[0m     )\n\u001b[0;32m    199\u001b[0m \u001b[38;5;28;01melse\u001b[39;00m:\n\u001b[0;32m    200\u001b[0m     tree\u001b[38;5;241m.\u001b[39m_fit(\n\u001b[0;32m    201\u001b[0m         X,\n\u001b[0;32m    202\u001b[0m         y,\n\u001b[1;32m   (...)\u001b[0m\n\u001b[0;32m    205\u001b[0m         missing_values_in_feature_mask\u001b[38;5;241m=\u001b[39mmissing_values_in_feature_mask,\n\u001b[0;32m    206\u001b[0m     )\n",
      "File \u001b[1;32m~\\anaconda3\\Lib\\site-packages\\sklearn\\tree\\_classes.py:472\u001b[0m, in \u001b[0;36mBaseDecisionTree._fit\u001b[1;34m(self, X, y, sample_weight, check_input, missing_values_in_feature_mask)\u001b[0m\n\u001b[0;32m    461\u001b[0m \u001b[38;5;28;01melse\u001b[39;00m:\n\u001b[0;32m    462\u001b[0m     builder \u001b[38;5;241m=\u001b[39m BestFirstTreeBuilder(\n\u001b[0;32m    463\u001b[0m         splitter,\n\u001b[0;32m    464\u001b[0m         min_samples_split,\n\u001b[1;32m   (...)\u001b[0m\n\u001b[0;32m    469\u001b[0m         \u001b[38;5;28mself\u001b[39m\u001b[38;5;241m.\u001b[39mmin_impurity_decrease,\n\u001b[0;32m    470\u001b[0m     )\n\u001b[1;32m--> 472\u001b[0m builder\u001b[38;5;241m.\u001b[39mbuild(\u001b[38;5;28mself\u001b[39m\u001b[38;5;241m.\u001b[39mtree_, X, y, sample_weight, missing_values_in_feature_mask)\n\u001b[0;32m    474\u001b[0m \u001b[38;5;28;01mif\u001b[39;00m \u001b[38;5;28mself\u001b[39m\u001b[38;5;241m.\u001b[39mn_outputs_ \u001b[38;5;241m==\u001b[39m \u001b[38;5;241m1\u001b[39m \u001b[38;5;129;01mand\u001b[39;00m is_classifier(\u001b[38;5;28mself\u001b[39m):\n\u001b[0;32m    475\u001b[0m     \u001b[38;5;28mself\u001b[39m\u001b[38;5;241m.\u001b[39mn_classes_ \u001b[38;5;241m=\u001b[39m \u001b[38;5;28mself\u001b[39m\u001b[38;5;241m.\u001b[39mn_classes_[\u001b[38;5;241m0\u001b[39m]\n",
      "\u001b[1;31mKeyboardInterrupt\u001b[0m: "
     ]
    }
   ],
   "source": [
    "#RF\n",
    "\n",
    "for red_method, dataset_block in dataset.items():\n",
    "    train = dataset_block['train']\n",
    "    params = {'n_estimators':np.arange(10, 600, 20),\n",
    "    \"max_depth\":np.arange (10, 50, 10),\n",
    "    \"min_samples_split\":np.arange (1, 50, 5),\n",
    "    \"min_samples_leaf\":np.arange (1, 12, 5)}\n",
    "    \n",
    "    RF = train_RF(train, params)\n",
    "    for parameter, parameter_block in train.items():\n",
    "        dataset[red_method]['train'][parameter]['RF']= RF[parameter]"
   ]
  },
  {
   "cell_type": "code",
   "execution_count": null,
   "id": "131e8915-5ca2-4bac-a2f8-079256bfc418",
   "metadata": {},
   "outputs": [],
   "source": [
    "with open('models_XG_and_Linear_and_KNN_and_SVR_and_RF.pickle', 'rb') as handle:\n",
    "    dataset = pickle.load(handle)"
   ]
  },
  {
   "cell_type": "code",
   "execution_count": null,
   "id": "1a10c687-a3dd-4dbd-b129-069766b5ffb6",
   "metadata": {
    "scrolled": true
   },
   "outputs": [],
   "source": [
    "for red_method, dataset_block in dataset.items():\n",
    "    train = dataset_block['train']\n",
    "    params = {'lr':[1e-4,1e-5], 'max_epochs':[20,60,100]}\n",
    "    RELU = train_FFN_RELU(train, params)\n",
    "    for parameter, parameter_block in train.items():\n",
    "        dataset[red_method]['train'][parameter]['RELU']= RELU[parameter]"
   ]
  },
  {
   "cell_type": "code",
   "execution_count": null,
   "id": "8cd527e2-2a8b-4d3e-a00e-c544171818c4",
   "metadata": {},
   "outputs": [],
   "source": [
    "for red_method, dataset_block in dataset.items():\n",
    "    train = dataset_block['train']\n",
    "    for parameter, parameter_block in train.items():\n",
    "        dataset[red_method]['train'][parameter]['RELU']= test_model_ffn(dataset[red_method]['train'][parameter]['RELU'], dataset_block, parameter)\n"
   ]
  },
  {
   "cell_type": "code",
   "execution_count": null,
   "id": "8c0fa275-1de9-4cde-9d33-5df8e869ad98",
   "metadata": {},
   "outputs": [],
   "source": [
    "dataset[' point']['train'][30]['RELU']"
   ]
  },
  {
   "cell_type": "code",
   "execution_count": null,
   "id": "649bf9c4-040f-4ea8-b91b-0efd1cf9a100",
   "metadata": {},
   "outputs": [],
   "source": [
    "import pickle\n",
    "with open('models.pickle', 'wb') as handle:\n",
    "    pickle.dump(dataset,handle)"
   ]
  },
  {
   "cell_type": "code",
   "execution_count": null,
   "id": "30507d42-dc70-44d6-bac2-4ff0962132eb",
   "metadata": {},
   "outputs": [],
   "source": []
  }
 ],
 "metadata": {
  "kernelspec": {
   "display_name": "LakeEnv",
   "language": "python",
   "name": "lakeenv"
  },
  "language_info": {
   "codemirror_mode": {
    "name": "ipython",
    "version": 3
   },
   "file_extension": ".py",
   "mimetype": "text/x-python",
   "name": "python",
   "nbconvert_exporter": "python",
   "pygments_lexer": "ipython3",
   "version": "3.11.6"
  }
 },
 "nbformat": 4,
 "nbformat_minor": 5
}
